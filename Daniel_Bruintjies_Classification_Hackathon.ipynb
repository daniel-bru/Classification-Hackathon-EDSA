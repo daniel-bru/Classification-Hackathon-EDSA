{
 "cells": [
  {
   "cell_type": "markdown",
   "id": "8311ef5b",
   "metadata": {
    "id": "8311ef5b"
   },
   "source": [
    "# EDSA Classification Hackathon \n",
    "#### 18 June 2021\n",
    "\n",
    "\n",
    "### DANIEL BRUINTJIES                                           \n"
   ]
  },
  {
   "cell_type": "code",
   "execution_count": 2,
   "id": "7b6ffe7e",
   "metadata": {
    "colab": {
     "base_uri": "https://localhost:8080/"
    },
    "id": "7b6ffe7e",
    "outputId": "8e8db0e8-382e-4dde-bdc0-a5af3064d54d"
   },
   "outputs": [
    {
     "name": "stderr",
     "output_type": "stream",
     "text": [
      "[nltk_data] Downloading package stopwords to\n",
      "[nltk_data]     C:\\Users\\Daniel\\AppData\\Roaming\\nltk_data...\n",
      "[nltk_data]   Package stopwords is already up-to-date!\n"
     ]
    }
   ],
   "source": [
    "# Standard\n",
    "import pandas as pd\n",
    "import numpy as np\n",
    "import time\n",
    "from tqdm import tqdm\n",
    "\n",
    "import matplotlib.pyplot as plt\n",
    "%matplotlib inline\n",
    "\n",
    "# Natural language Processing\n",
    "import re\n",
    "import nltk\n",
    "nltk.download('stopwords')\n",
    "from nltk.corpus import stopwords\n",
    "from sklearn.pipeline import Pipeline\n",
    "from sklearn.feature_extraction.text import TfidfVectorizer\n",
    "\n",
    "# Models\n",
    "from sklearn.svm import LinearSVC, SVC\n",
    "from sklearn.naive_bayes import MultinomialNB, ComplementNB\n",
    "from sklearn.neighbors import KNeighborsClassifier\n",
    "from sklearn.model_selection import train_test_split, KFold\n",
    "from sklearn.linear_model import LogisticRegression, SGDClassifier, RidgeClassifier\n",
    "from sklearn.model_selection import cross_val_score, GridSearchCV, RepeatedStratifiedKFold\n",
    "from sklearn.ensemble import RandomForestClassifier, AdaBoostClassifier, ExtraTreesClassifier, StackingClassifier\n",
    "\n",
    "# Performance\n",
    "from sklearn.metrics import f1_score\n",
    "from sklearn import metrics\n"
   ]
  },
  {
   "cell_type": "code",
   "execution_count": 3,
   "id": "a179689b",
   "metadata": {
    "id": "a179689b"
   },
   "outputs": [],
   "source": [
    "pd.set_option('display.max_colwidth', None)\n",
    "train = pd.read_csv(\"train_set.csv\")\n",
    "test = pd.read_csv(\"test_set.csv\")"
   ]
  },
  {
   "cell_type": "code",
   "execution_count": 4,
   "id": "bf6e7ca7",
   "metadata": {
    "colab": {
     "base_uri": "https://localhost:8080/"
    },
    "id": "bf6e7ca7",
    "outputId": "3f447de7-8320-44c7-d87d-d2bd4b972cc1"
   },
   "outputs": [
    {
     "name": "stdout",
     "output_type": "stream",
     "text": [
      "(33000, 2)\n",
      "(5682, 2)\n"
     ]
    }
   ],
   "source": [
    "print(train.shape)\n",
    "print(test.shape)"
   ]
  },
  {
   "cell_type": "code",
   "execution_count": 5,
   "id": "ecb29948",
   "metadata": {
    "colab": {
     "base_uri": "https://localhost:8080/"
    },
    "id": "ecb29948",
    "outputId": "82723714-abaa-4e11-bbab-3ef341118219"
   },
   "outputs": [
    {
     "name": "stdout",
     "output_type": "stream",
     "text": [
      "<class 'pandas.core.frame.DataFrame'>\n",
      "RangeIndex: 33000 entries, 0 to 32999\n",
      "Data columns (total 2 columns):\n",
      " #   Column   Non-Null Count  Dtype \n",
      "---  ------   --------------  ----- \n",
      " 0   lang_id  33000 non-null  object\n",
      " 1   text     33000 non-null  object\n",
      "dtypes: object(2)\n",
      "memory usage: 515.8+ KB\n"
     ]
    }
   ],
   "source": [
    "train.info()"
   ]
  },
  {
   "cell_type": "code",
   "execution_count": 6,
   "id": "982a1b1d",
   "metadata": {},
   "outputs": [
    {
     "name": "stdout",
     "output_type": "stream",
     "text": [
      "ven    3000\n",
      "nso    3000\n",
      "nbl    3000\n",
      "eng    3000\n",
      "xho    3000\n",
      "tso    3000\n",
      "afr    3000\n",
      "tsn    3000\n",
      "zul    3000\n",
      "ssw    3000\n",
      "sot    3000\n",
      "Name: lang_id, dtype: int64\n",
      "['xho' 'eng' 'nso' 'ven' 'tsn' 'nbl' 'zul' 'ssw' 'tso' 'sot' 'afr']\n"
     ]
    }
   ],
   "source": [
    "print(train.lang_id.value_counts())\n",
    "print(train.lang_id.unique())"
   ]
  },
  {
   "cell_type": "code",
   "execution_count": 178,
   "id": "18256f19",
   "metadata": {
    "colab": {
     "base_uri": "https://localhost:8080/",
     "height": 272
    },
    "id": "18256f19",
    "outputId": "bfbde209-17ad-44dc-eb5f-02ae5004cb86",
    "scrolled": true
   },
   "outputs": [
    {
     "data": {
      "text/html": [
       "<div>\n",
       "<style scoped>\n",
       "    .dataframe tbody tr th:only-of-type {\n",
       "        vertical-align: middle;\n",
       "    }\n",
       "\n",
       "    .dataframe tbody tr th {\n",
       "        vertical-align: top;\n",
       "    }\n",
       "\n",
       "    .dataframe thead th {\n",
       "        text-align: right;\n",
       "    }\n",
       "</style>\n",
       "<table border=\"1\" class=\"dataframe\">\n",
       "  <thead>\n",
       "    <tr style=\"text-align: right;\">\n",
       "      <th></th>\n",
       "      <th>lang_id</th>\n",
       "      <th>text</th>\n",
       "    </tr>\n",
       "  </thead>\n",
       "  <tbody>\n",
       "    <tr>\n",
       "      <th>0</th>\n",
       "      <td>xho</td>\n",
       "      <td>umgaqo-siseko wenza amalungiselelo kumaziko axhasa ulawulo lwesininzi kunye nokuthath inxaxheba kwabafazi ezi ziquka phakathi kwezinye zazo ikomishoni yokulingana ngokwesini ikomishoni yamalungelo oluntu lomzantsi afrika</td>\n",
       "    </tr>\n",
       "    <tr>\n",
       "      <th>1</th>\n",
       "      <td>xho</td>\n",
       "      <td>i-dha iya kuba nobulumko bokubeka umsebenzi naphi na kwisebe ngokusekwe kwiimfuno zokusebenza zalo emva kokubonana nomsebenzi kunye okanye imanyano yakhe ukuba ulandulo lomntu onjalo alufanelekanga i-dha mayibize uncedo olufanelekileyo elungelweni layo</td>\n",
       "    </tr>\n",
       "    <tr>\n",
       "      <th>2</th>\n",
       "      <td>eng</td>\n",
       "      <td>the province of kwazulu-natal department of transport invites tenders from established contractors experienced in bridge construction for the construction of the kwajolwayo tugela river pedestrian bridge near tugela ferry the duration of the project will be months</td>\n",
       "    </tr>\n",
       "    <tr>\n",
       "      <th>3</th>\n",
       "      <td>nso</td>\n",
       "      <td>o netefatša gore o ba file dilo ka moka tše le dumelelanego ka tšona mohlala maleri a magolo a a šomišwago go fihlelela meagong e metelele scaffolds a a bolokegilego lefelo la maleba la go šomela go phela gabotse bjbj</td>\n",
       "    </tr>\n",
       "    <tr>\n",
       "      <th>4</th>\n",
       "      <td>ven</td>\n",
       "      <td>khomishini ya ndinganyiso ya mbeu yo ewa maana u ya nga mulayo wa khomishini ya ndinganyiso ya mbeu u thetshelesa mbilaelo dzine dza tshimbilelana na tshialula u ya nga mbeu nahone i ivhea sa foramu ya thungo u ya nga mulayo wa ndinganyiso</td>\n",
       "    </tr>\n",
       "  </tbody>\n",
       "</table>\n",
       "</div>"
      ],
      "text/plain": [
       "  lang_id                                                                                                                                                                                                                                                                      text\n",
       "0     xho                                              umgaqo-siseko wenza amalungiselelo kumaziko axhasa ulawulo lwesininzi kunye nokuthath inxaxheba kwabafazi ezi ziquka phakathi kwezinye zazo ikomishoni yokulingana ngokwesini ikomishoni yamalungelo oluntu lomzantsi afrika\n",
       "1     xho              i-dha iya kuba nobulumko bokubeka umsebenzi naphi na kwisebe ngokusekwe kwiimfuno zokusebenza zalo emva kokubonana nomsebenzi kunye okanye imanyano yakhe ukuba ulandulo lomntu onjalo alufanelekanga i-dha mayibize uncedo olufanelekileyo elungelweni layo\n",
       "2     eng  the province of kwazulu-natal department of transport invites tenders from established contractors experienced in bridge construction for the construction of the kwajolwayo tugela river pedestrian bridge near tugela ferry the duration of the project will be months\n",
       "3     nso                                                 o netefatša gore o ba file dilo ka moka tše le dumelelanego ka tšona mohlala maleri a magolo a a šomišwago go fihlelela meagong e metelele scaffolds a a bolokegilego lefelo la maleba la go šomela go phela gabotse bjbj\n",
       "4     ven                           khomishini ya ndinganyiso ya mbeu yo ewa maana u ya nga mulayo wa khomishini ya ndinganyiso ya mbeu u thetshelesa mbilaelo dzine dza tshimbilelana na tshialula u ya nga mbeu nahone i ivhea sa foramu ya thungo u ya nga mulayo wa ndinganyiso"
      ]
     },
     "execution_count": 178,
     "metadata": {
      "tags": []
     },
     "output_type": "execute_result"
    }
   ],
   "source": [
    "train.head()"
   ]
  },
  {
   "cell_type": "code",
   "execution_count": 179,
   "id": "f8f440da",
   "metadata": {
    "id": "f8f440da"
   },
   "outputs": [],
   "source": [
    "def clean_text(text):\n",
    "    \"\"\"\n",
    "    A function to preprocess the text\n",
    "    :param message: String, text to be cleaned\n",
    "    return: String, text\n",
    "    \"\"\"\n",
    "    text = text.lower()\n",
    "    # removing punctuation and digits\n",
    "    text = re.sub(r'[-]',' ',text)\n",
    "    text = re.sub(r'[_]', ' ', text)\n",
    "    text = re.sub(r'[^\\w\\s]','',text)\n",
    "    text = re.sub('[0-9]+', '', text) \n",
    "    \n",
    "    stop_words = stopwords.words('english')\n",
    "    text = ' '.join([word for word in text.split(' ') if not word in stop_words])\n",
    "    text = re.sub(\"\\\\s+\", \" \", text)  # fills white spaces\n",
    "    text = text.lstrip()  # removes whitespaces before string\n",
    "    text = text.rstrip()  # removes whitespaces after string\n",
    "    \n",
    "\n",
    "    return text"
   ]
  },
  {
   "cell_type": "code",
   "execution_count": 180,
   "id": "9ce115e9",
   "metadata": {
    "colab": {
     "base_uri": "https://localhost:8080/"
    },
    "id": "9ce115e9",
    "outputId": "186dd3a9-e0ed-42de-f1ad-af620c7a2921"
   },
   "outputs": [
    {
     "name": "stdout",
     "output_type": "stream",
     "text": [
      "CPU times: user 7.69 s, sys: 391 ms, total: 8.08 s\n",
      "Wall time: 8.07 s\n"
     ]
    }
   ],
   "source": [
    "%%time\n",
    "\n",
    "train['text_clean']=train['text'].apply(clean_text) \n",
    "test['text_clean']=test['text'].apply(clean_text)"
   ]
  },
  {
   "cell_type": "code",
   "execution_count": 181,
   "id": "er6ydspcMe0M",
   "metadata": {
    "colab": {
     "base_uri": "https://localhost:8080/",
     "height": 200
    },
    "id": "er6ydspcMe0M",
    "outputId": "463b9d1b-aefb-48de-a3c9-3d745050ce8d"
   },
   "outputs": [
    {
     "data": {
      "text/html": [
       "<div>\n",
       "<style scoped>\n",
       "    .dataframe tbody tr th:only-of-type {\n",
       "        vertical-align: middle;\n",
       "    }\n",
       "\n",
       "    .dataframe tbody tr th {\n",
       "        vertical-align: top;\n",
       "    }\n",
       "\n",
       "    .dataframe thead th {\n",
       "        text-align: right;\n",
       "    }\n",
       "</style>\n",
       "<table border=\"1\" class=\"dataframe\">\n",
       "  <thead>\n",
       "    <tr style=\"text-align: right;\">\n",
       "      <th></th>\n",
       "      <th>index</th>\n",
       "      <th>text</th>\n",
       "      <th>text_clean</th>\n",
       "    </tr>\n",
       "  </thead>\n",
       "  <tbody>\n",
       "    <tr>\n",
       "      <th>0</th>\n",
       "      <td>1</td>\n",
       "      <td>Mmasepala, fa maemo a a kgethegileng a letlelela kgato eo.</td>\n",
       "      <td>mmasepala fa maemo kgethegileng letlelela kgato eo</td>\n",
       "    </tr>\n",
       "    <tr>\n",
       "      <th>1</th>\n",
       "      <td>2</td>\n",
       "      <td>Uzakwaziswa ngokufaneleko nakungafuneka eminye imitlolo engezelelako ukuqedelela ukutloliswa kwesibawo sakho.</td>\n",
       "      <td>uzakwaziswa ngokufaneleko nakungafuneka eminye imitlolo engezelelako ukuqedelela ukutloliswa kwesibawo sakho</td>\n",
       "    </tr>\n",
       "    <tr>\n",
       "      <th>2</th>\n",
       "      <td>3</td>\n",
       "      <td>Tshivhumbeo tshi fana na ngano dza vhathu.</td>\n",
       "      <td>tshivhumbeo tshi fana na ngano dza vhathu</td>\n",
       "    </tr>\n",
       "    <tr>\n",
       "      <th>3</th>\n",
       "      <td>4</td>\n",
       "      <td>Kube inja nelikati betingevakala kutsi titsini naticocisana.</td>\n",
       "      <td>kube inja nelikati betingevakala kutsi titsini naticocisana</td>\n",
       "    </tr>\n",
       "    <tr>\n",
       "      <th>4</th>\n",
       "      <td>5</td>\n",
       "      <td>Winste op buitelandse valuta.</td>\n",
       "      <td>winste op buitelandse valuta</td>\n",
       "    </tr>\n",
       "  </tbody>\n",
       "</table>\n",
       "</div>"
      ],
      "text/plain": [
       "   index  ...                                                                                                    text_clean\n",
       "0      1  ...                                                            mmasepala fa maemo kgethegileng letlelela kgato eo\n",
       "1      2  ...  uzakwaziswa ngokufaneleko nakungafuneka eminye imitlolo engezelelako ukuqedelela ukutloliswa kwesibawo sakho\n",
       "2      3  ...                                                                     tshivhumbeo tshi fana na ngano dza vhathu\n",
       "3      4  ...                                                   kube inja nelikati betingevakala kutsi titsini naticocisana\n",
       "4      5  ...                                                                                  winste op buitelandse valuta\n",
       "\n",
       "[5 rows x 3 columns]"
      ]
     },
     "execution_count": 181,
     "metadata": {
      "tags": []
     },
     "output_type": "execute_result"
    }
   ],
   "source": [
    "test.head()"
   ]
  },
  {
   "cell_type": "code",
   "execution_count": 182,
   "id": "e214c772",
   "metadata": {
    "colab": {
     "base_uri": "https://localhost:8080/",
     "height": 281
    },
    "id": "e214c772",
    "outputId": "363d668c-8f7a-47ae-894c-9a5ff77cfc35"
   },
   "outputs": [
    {
     "data": {
      "text/html": [
       "<div>\n",
       "<style scoped>\n",
       "    .dataframe tbody tr th:only-of-type {\n",
       "        vertical-align: middle;\n",
       "    }\n",
       "\n",
       "    .dataframe tbody tr th {\n",
       "        vertical-align: top;\n",
       "    }\n",
       "\n",
       "    .dataframe thead th {\n",
       "        text-align: right;\n",
       "    }\n",
       "</style>\n",
       "<table border=\"1\" class=\"dataframe\">\n",
       "  <thead>\n",
       "    <tr style=\"text-align: right;\">\n",
       "      <th></th>\n",
       "      <th>lang_id</th>\n",
       "      <th>text</th>\n",
       "      <th>text_clean</th>\n",
       "    </tr>\n",
       "  </thead>\n",
       "  <tbody>\n",
       "    <tr>\n",
       "      <th>0</th>\n",
       "      <td>xho</td>\n",
       "      <td>umgaqo-siseko wenza amalungiselelo kumaziko axhasa ulawulo lwesininzi kunye nokuthath inxaxheba kwabafazi ezi ziquka phakathi kwezinye zazo ikomishoni yokulingana ngokwesini ikomishoni yamalungelo oluntu lomzantsi afrika</td>\n",
       "      <td>umgaqo siseko wenza amalungiselelo kumaziko axhasa ulawulo lwesininzi kunye nokuthath inxaxheba kwabafazi ezi ziquka phakathi kwezinye zazo ikomishoni yokulingana ngokwesini ikomishoni yamalungelo oluntu lomzantsi afrika</td>\n",
       "    </tr>\n",
       "    <tr>\n",
       "      <th>1</th>\n",
       "      <td>xho</td>\n",
       "      <td>i-dha iya kuba nobulumko bokubeka umsebenzi naphi na kwisebe ngokusekwe kwiimfuno zokusebenza zalo emva kokubonana nomsebenzi kunye okanye imanyano yakhe ukuba ulandulo lomntu onjalo alufanelekanga i-dha mayibize uncedo olufanelekileyo elungelweni layo</td>\n",
       "      <td>dha iya kuba nobulumko bokubeka umsebenzi naphi na kwisebe ngokusekwe kwiimfuno zokusebenza zalo emva kokubonana nomsebenzi kunye okanye imanyano yakhe ukuba ulandulo lomntu onjalo alufanelekanga dha mayibize uncedo olufanelekileyo elungelweni layo</td>\n",
       "    </tr>\n",
       "    <tr>\n",
       "      <th>2</th>\n",
       "      <td>eng</td>\n",
       "      <td>the province of kwazulu-natal department of transport invites tenders from established contractors experienced in bridge construction for the construction of the kwajolwayo tugela river pedestrian bridge near tugela ferry the duration of the project will be months</td>\n",
       "      <td>province kwazulu natal department transport invites tenders established contractors experienced bridge construction construction kwajolwayo tugela river pedestrian bridge near tugela ferry duration project months</td>\n",
       "    </tr>\n",
       "    <tr>\n",
       "      <th>3</th>\n",
       "      <td>nso</td>\n",
       "      <td>o netefatša gore o ba file dilo ka moka tše le dumelelanego ka tšona mohlala maleri a magolo a a šomišwago go fihlelela meagong e metelele scaffolds a a bolokegilego lefelo la maleba la go šomela go phela gabotse bjbj</td>\n",
       "      <td>netefatša gore ba file dilo ka moka tše le dumelelanego ka tšona mohlala maleri magolo šomišwago go fihlelela meagong e metelele scaffolds bolokegilego lefelo la maleba la go šomela go phela gabotse bjbj</td>\n",
       "    </tr>\n",
       "    <tr>\n",
       "      <th>4</th>\n",
       "      <td>ven</td>\n",
       "      <td>khomishini ya ndinganyiso ya mbeu yo ewa maana u ya nga mulayo wa khomishini ya ndinganyiso ya mbeu u thetshelesa mbilaelo dzine dza tshimbilelana na tshialula u ya nga mbeu nahone i ivhea sa foramu ya thungo u ya nga mulayo wa ndinganyiso</td>\n",
       "      <td>khomishini ya ndinganyiso ya mbeu yo ewa maana u ya nga mulayo wa khomishini ya ndinganyiso ya mbeu u thetshelesa mbilaelo dzine dza tshimbilelana na tshialula u ya nga mbeu nahone ivhea sa foramu ya thungo u ya nga mulayo wa ndinganyiso</td>\n",
       "    </tr>\n",
       "  </tbody>\n",
       "</table>\n",
       "</div>"
      ],
      "text/plain": [
       "  lang_id  ...                                                                                                                                                                                                                                                text_clean\n",
       "0     xho  ...                              umgaqo siseko wenza amalungiselelo kumaziko axhasa ulawulo lwesininzi kunye nokuthath inxaxheba kwabafazi ezi ziquka phakathi kwezinye zazo ikomishoni yokulingana ngokwesini ikomishoni yamalungelo oluntu lomzantsi afrika\n",
       "1     xho  ...  dha iya kuba nobulumko bokubeka umsebenzi naphi na kwisebe ngokusekwe kwiimfuno zokusebenza zalo emva kokubonana nomsebenzi kunye okanye imanyano yakhe ukuba ulandulo lomntu onjalo alufanelekanga dha mayibize uncedo olufanelekileyo elungelweni layo\n",
       "2     eng  ...                                      province kwazulu natal department transport invites tenders established contractors experienced bridge construction construction kwajolwayo tugela river pedestrian bridge near tugela ferry duration project months\n",
       "3     nso  ...                                               netefatša gore ba file dilo ka moka tše le dumelelanego ka tšona mohlala maleri magolo šomišwago go fihlelela meagong e metelele scaffolds bolokegilego lefelo la maleba la go šomela go phela gabotse bjbj\n",
       "4     ven  ...             khomishini ya ndinganyiso ya mbeu yo ewa maana u ya nga mulayo wa khomishini ya ndinganyiso ya mbeu u thetshelesa mbilaelo dzine dza tshimbilelana na tshialula u ya nga mbeu nahone ivhea sa foramu ya thungo u ya nga mulayo wa ndinganyiso\n",
       "\n",
       "[5 rows x 3 columns]"
      ]
     },
     "execution_count": 182,
     "metadata": {
      "tags": []
     },
     "output_type": "execute_result"
    }
   ],
   "source": [
    "train.head()"
   ]
  },
  {
   "cell_type": "markdown",
   "id": "5f21388c",
   "metadata": {
    "id": "5f21388c"
   },
   "source": [
    "### Model Building"
   ]
  },
  {
   "cell_type": "code",
   "execution_count": 65,
   "id": "d22b76a0",
   "metadata": {
    "id": "d22b76a0"
   },
   "outputs": [],
   "source": [
    "X = train['text_clean']\n",
    "y = train['lang_id'] \n",
    "\n",
    "X_train , X_test , y_train , y_test = train_test_split(X , y, test_size =0.4, random_state=1)"
   ]
  },
  {
   "cell_type": "code",
   "execution_count": 66,
   "id": "54687d45",
   "metadata": {
    "id": "54687d45"
   },
   "outputs": [],
   "source": [
    "classifiers = [ ComplementNB(),\n",
    "               LinearSVC(random_state=1),\n",
    "               #ExtraTreesClassifier(),\n",
    "               #LogisticRegression(random_state=1, n_jobs=1, max_iter=5000),\n",
    "               SGDClassifier(random_state=1),\n",
    "               #AdaBoostClassifier(),\n",
    "               #KNeighborsClassifier(),\n",
    "               MultinomialNB(),\n",
    "               RidgeClassifier(),\n",
    "               #RandomForestClassifier(random_state=1)\n",
    "              ]"
   ]
  },
  {
   "cell_type": "code",
   "execution_count": 67,
   "id": "6accafd8",
   "metadata": {
    "id": "6accafd8"
   },
   "outputs": [],
   "source": [
    "def model_assessment(classifiers, X_train , X_test , y_train , y_test):\n",
    "    \"\"\"\n",
    "    A function to train and test different classifiers and return a performance summary. \n",
    "    :param classifiers: List of models\n",
    "    :param Train Test Split\n",
    "    return: Dataframe of models as index, and metrics as columns\n",
    "    \"\"\"  \n",
    "    model_summary = {} \n",
    "    \n",
    "    for clf in classifiers:\n",
    "        model = Pipeline([\n",
    "                    ('tfidf', TfidfVectorizer(stop_words = 'english', max_df=0.9, ngram_range=(1, 5), analyzer= 'char')),\n",
    "                    ('clf', clf)\n",
    "                          ])\n",
    "        \n",
    "        start_time = time.time()      # Logging Current Time \n",
    "        model.fit(X_train, y_train)        # Training\n",
    "        predictions = model.predict(X_test)    # Testing \n",
    "        run_time = time.time() - start_time        # Calculate Execuation Time\n",
    "      \n",
    "    # Create Dictionary Of Each Models Performance\n",
    "        model_summary[clf.__class__.__name__] = {\n",
    "          'F1-Macro':metrics.f1_score(y_test, predictions, average='macro'),\n",
    "          'F1-Accuracy':metrics.f1_score(y_test, predictions, average='micro'),\n",
    "          'F1-Weighted':metrics.f1_score(y_test, predictions, average='weighted'),\n",
    "          'Execution Time': run_time }\n",
    "      \n",
    "        \n",
    "    return pd.DataFrame.from_dict(model_summary, orient='index') # Create/Return Dataframe"
   ]
  },
  {
   "cell_type": "code",
   "execution_count": 68,
   "id": "b6bf3241",
   "metadata": {
    "id": "b6bf3241"
   },
   "outputs": [],
   "source": [
    "clf_performance_df = model_assessment(classifiers, X_train , X_test , y_train , y_test)\n",
    "clf_performance_df.to_csv('clf_performance_df.csv')"
   ]
  },
  {
   "cell_type": "code",
   "execution_count": 69,
   "id": "d130f8eb",
   "metadata": {
    "id": "d130f8eb"
   },
   "outputs": [],
   "source": [
    "clf_performance_df = pd.read_csv('clf_performance_df.csv', index_col = 0) "
   ]
  },
  {
   "cell_type": "code",
   "execution_count": 70,
   "id": "U84JJ6nSe5d7",
   "metadata": {
    "colab": {
     "base_uri": "https://localhost:8080/",
     "height": 204
    },
    "id": "U84JJ6nSe5d7",
    "outputId": "cad36835-8a19-4632-fde9-f1922c2acc1d"
   },
   "outputs": [
    {
     "data": {
      "text/html": [
       "<div>\n",
       "<style scoped>\n",
       "    .dataframe tbody tr th:only-of-type {\n",
       "        vertical-align: middle;\n",
       "    }\n",
       "\n",
       "    .dataframe tbody tr th {\n",
       "        vertical-align: top;\n",
       "    }\n",
       "\n",
       "    .dataframe thead th {\n",
       "        text-align: right;\n",
       "    }\n",
       "</style>\n",
       "<table border=\"1\" class=\"dataframe\">\n",
       "  <thead>\n",
       "    <tr style=\"text-align: right;\">\n",
       "      <th></th>\n",
       "      <th>F1-Macro</th>\n",
       "      <th>F1-Accuracy</th>\n",
       "      <th>F1-Weighted</th>\n",
       "      <th>Execution Time</th>\n",
       "    </tr>\n",
       "  </thead>\n",
       "  <tbody>\n",
       "    <tr>\n",
       "      <th>LinearSVC</th>\n",
       "      <td>0.999549</td>\n",
       "      <td>0.999545</td>\n",
       "      <td>0.999546</td>\n",
       "      <td>28.811248</td>\n",
       "    </tr>\n",
       "    <tr>\n",
       "      <th>SGDClassifier</th>\n",
       "      <td>0.999549</td>\n",
       "      <td>0.999545</td>\n",
       "      <td>0.999546</td>\n",
       "      <td>29.772962</td>\n",
       "    </tr>\n",
       "    <tr>\n",
       "      <th>MultinomialNB</th>\n",
       "      <td>0.999547</td>\n",
       "      <td>0.999545</td>\n",
       "      <td>0.999545</td>\n",
       "      <td>25.663713</td>\n",
       "    </tr>\n",
       "    <tr>\n",
       "      <th>RidgeClassifier</th>\n",
       "      <td>0.999469</td>\n",
       "      <td>0.999470</td>\n",
       "      <td>0.999470</td>\n",
       "      <td>73.897409</td>\n",
       "    </tr>\n",
       "    <tr>\n",
       "      <th>ComplementNB</th>\n",
       "      <td>0.998620</td>\n",
       "      <td>0.998636</td>\n",
       "      <td>0.998639</td>\n",
       "      <td>24.207253</td>\n",
       "    </tr>\n",
       "  </tbody>\n",
       "</table>\n",
       "</div>"
      ],
      "text/plain": [
       "                 F1-Macro  F1-Accuracy  F1-Weighted  Execution Time\n",
       "LinearSVC        0.999549     0.999545     0.999546       28.811248\n",
       "SGDClassifier    0.999549     0.999545     0.999546       29.772962\n",
       "MultinomialNB    0.999547     0.999545     0.999545       25.663713\n",
       "RidgeClassifier  0.999469     0.999470     0.999470       73.897409\n",
       "ComplementNB     0.998620     0.998636     0.998639       24.207253"
      ]
     },
     "execution_count": 70,
     "metadata": {
      "tags": []
     },
     "output_type": "execute_result"
    }
   ],
   "source": [
    "clf_performance_df.sort_values('F1-Weighted', ascending=False)"
   ]
  },
  {
   "cell_type": "markdown",
   "id": "33d6661a",
   "metadata": {
    "id": "33d6661a"
   },
   "source": [
    "### Hyperparameter Tuning"
   ]
  },
  {
   "cell_type": "code",
   "execution_count": 72,
   "id": "84b34bfe",
   "metadata": {
    "id": "84b34bfe"
   },
   "outputs": [],
   "source": [
    "classifiers = [\n",
    "               LinearSVC(random_state=1),\n",
    "               SGDClassifier(random_state=1),\n",
    "               MultinomialNB(),\n",
    "               RidgeClassifier()\n",
    "              ]"
   ]
  },
  {
   "cell_type": "code",
   "execution_count": 74,
   "id": "6a1790d0",
   "metadata": {
    "id": "6a1790d0"
   },
   "outputs": [],
   "source": [
    "X = train['text_clean']\n",
    "y = train['lang_id'] \n",
    "\n",
    "X_train , X_test , y_train , y_test = train_test_split(X , y, test_size =0.4, random_state=1)"
   ]
  },
  {
   "cell_type": "code",
   "execution_count": 78,
   "id": "7805d3bd",
   "metadata": {
    "id": "7805d3bd"
   },
   "outputs": [],
   "source": [
    "def get_hyperparams(classifiers, X_train, y_train):\n",
    "    \"\"\"\n",
    "    A function to train different classifiers and return their parameters.\n",
    "    :classifiers: List of models\n",
    "    return: Dictionary with model names as keys and the values are a dictionary with parameter names as keys \n",
    "            and parameter value as values.\n",
    "    \"\"\"  \n",
    "    model_params = {}\n",
    "  \n",
    "    for clf in classifiers:\n",
    "        model = Pipeline([\n",
    "                    ('tfidf', TfidfVectorizer(stop_words = 'english', max_df=0.9, ngram_range=(1, 5), analyzer= 'char')),\n",
    "                    ('clf',clf)\n",
    "                          ])\n",
    "        \n",
    "        model.fit(X_train, y_train)\n",
    "        \n",
    "        params = model.get_params()\n",
    "        model_name = clf.__class__.__name__ \n",
    "        model_name = {}\n",
    "        \n",
    "        for key in params:\n",
    "            if key.startswith(\"clf\"):\n",
    "                if len(key) < 5:\n",
    "                    model_name['model'] = params[key]\n",
    "                else:\n",
    "                    model_name[key[5:]] = params[key]\n",
    "        \n",
    "        model_params[clf.__class__.__name__] = model_name\n",
    "        \n",
    "    return model_params"
   ]
  },
  {
   "cell_type": "code",
   "execution_count": 79,
   "id": "9ced6f31",
   "metadata": {
    "colab": {
     "base_uri": "https://localhost:8080/"
    },
    "id": "9ced6f31",
    "outputId": "71b869da-8bb7-4dcd-9fb1-6f112159ecb2"
   },
   "outputs": [
    {
     "name": "stdout",
     "output_type": "stream",
     "text": [
      "CPU times: user 2min 53s, sys: 44 s, total: 3min 37s\n",
      "Wall time: 2min 52s\n"
     ]
    }
   ],
   "source": [
    "%%time\n",
    "model_params = get_hyperparams(classifiers, X_train, y_train)"
   ]
  },
  {
   "cell_type": "markdown",
   "id": "68cced6d",
   "metadata": {
    "id": "68cced6d"
   },
   "source": [
    "#### Grid Search"
   ]
  },
  {
   "cell_type": "code",
   "execution_count": 80,
   "id": "825e88e0",
   "metadata": {
    "id": "825e88e0"
   },
   "outputs": [],
   "source": [
    "X = train['text_clean']\n",
    "y = train['lang_id'] \n",
    "\n",
    "vect = TfidfVectorizer(stop_words = 'english', max_df=0.9, ngram_range=(1, 5), analyzer= 'char')\n",
    "\n",
    "X_train , X_test , y_train , y_test = train_test_split(X, y, test_size=0.4, random_state =1)\n",
    "X_train = vect.fit_transform(X_train)\n",
    "X_test = vect.transform(X_test)"
   ]
  },
  {
   "cell_type": "markdown",
   "id": "4c27e0d0",
   "metadata": {
    "id": "4c27e0d0"
   },
   "source": [
    "#### LinearSVC"
   ]
  },
  {
   "cell_type": "code",
   "execution_count": 82,
   "id": "15974ee6",
   "metadata": {
    "colab": {
     "base_uri": "https://localhost:8080/"
    },
    "id": "15974ee6",
    "outputId": "efe697e3-1fef-4722-e6c8-8e5860b105f8"
   },
   "outputs": [
    {
     "data": {
      "text/plain": [
       "{'C': 1.0,\n",
       " 'class_weight': None,\n",
       " 'dual': True,\n",
       " 'fit_intercept': True,\n",
       " 'intercept_scaling': 1,\n",
       " 'loss': 'squared_hinge',\n",
       " 'max_iter': 1000,\n",
       " 'model': LinearSVC(C=1.0, class_weight=None, dual=True, fit_intercept=True,\n",
       "           intercept_scaling=1, loss='squared_hinge', max_iter=1000,\n",
       "           multi_class='ovr', penalty='l2', random_state=1, tol=0.0001,\n",
       "           verbose=0),\n",
       " 'multi_class': 'ovr',\n",
       " 'penalty': 'l2',\n",
       " 'random_state': 1,\n",
       " 'tol': 0.0001,\n",
       " 'verbose': 0}"
      ]
     },
     "execution_count": 82,
     "metadata": {
      "tags": []
     },
     "output_type": "execute_result"
    }
   ],
   "source": [
    "#Current Hyperparameters\n",
    "model_params[classifiers[0].__class__.__name__]"
   ]
  },
  {
   "cell_type": "code",
   "execution_count": 87,
   "id": "2daf699e",
   "metadata": {
    "colab": {
     "base_uri": "https://localhost:8080/"
    },
    "id": "2daf699e",
    "outputId": "8c5da2fc-5d02-4d47-ed0f-1cf47d419094"
   },
   "outputs": [
    {
     "name": "stdout",
     "output_type": "stream",
     "text": [
      "CPU times: user 7.6 s, sys: 99 ms, total: 7.7 s\n",
      "Wall time: 56.1 s\n"
     ]
    }
   ],
   "source": [
    "%%time\n",
    "# define model and parameters to loop through\n",
    "model = LinearSVC()\n",
    "C = [0.9, 0.7]\n",
    "max_iter = [1000]\n",
    "grid = dict(C=C, max_iter = max_iter)\n",
    "\n",
    "GS = GridSearchCV(estimator=model, param_grid=grid, n_jobs=-1, cv=5, scoring='f1_weighted', error_score=0)\n",
    "GS.fit(X_train, y_train)\n",
    "\n",
    "y_pred = GS.predict(X_test)\n",
    "f1_macro = metrics.f1_score(y_test, y_pred, average='macro')\n",
    "f1_weighted = metrics.f1_score(y_test, y_pred, average='weighted')\n"
   ]
  },
  {
   "cell_type": "code",
   "execution_count": 88,
   "id": "96da0f00",
   "metadata": {
    "colab": {
     "base_uri": "https://localhost:8080/"
    },
    "id": "96da0f00",
    "outputId": "2aa4bcd0-92ab-4fc7-f4ea-772000a6ba6d"
   },
   "outputs": [
    {
     "name": "stdout",
     "output_type": "stream",
     "text": [
      "0.9989898921697524\n",
      "{'C': 0.9, 'max_iter': 1000}\n",
      "LinearSVC(C=0.9, class_weight=None, dual=True, fit_intercept=True,\n",
      "          intercept_scaling=1, loss='squared_hinge', max_iter=1000,\n",
      "          multi_class='ovr', penalty='l2', random_state=None, tol=0.0001,\n",
      "          verbose=0)\n"
     ]
    }
   ],
   "source": [
    "print(GS.best_score_)\n",
    "print(GS.best_params_)     # The parameters we want\n",
    "print(GS.best_estimator_) "
   ]
  },
  {
   "cell_type": "markdown",
   "id": "5336956c",
   "metadata": {
    "id": "5336956c"
   },
   "source": [
    "#### RidgeClassifier"
   ]
  },
  {
   "cell_type": "code",
   "execution_count": 89,
   "id": "10216244",
   "metadata": {
    "colab": {
     "base_uri": "https://localhost:8080/"
    },
    "id": "10216244",
    "outputId": "7a66e49f-a5a7-42b9-92b4-fc5653e279a2"
   },
   "outputs": [
    {
     "data": {
      "text/plain": [
       "{'alpha': 1.0,\n",
       " 'class_weight': None,\n",
       " 'copy_X': True,\n",
       " 'fit_intercept': True,\n",
       " 'max_iter': None,\n",
       " 'model': RidgeClassifier(alpha=1.0, class_weight=None, copy_X=True, fit_intercept=True,\n",
       "                 max_iter=None, normalize=False, random_state=None,\n",
       "                 solver='auto', tol=0.001),\n",
       " 'normalize': False,\n",
       " 'random_state': None,\n",
       " 'solver': 'auto',\n",
       " 'tol': 0.001}"
      ]
     },
     "execution_count": 89,
     "metadata": {
      "tags": []
     },
     "output_type": "execute_result"
    }
   ],
   "source": [
    "#Current Hyperparameters\n",
    "model_params[classifiers[3].__class__.__name__]"
   ]
  },
  {
   "cell_type": "code",
   "execution_count": 90,
   "id": "62e1e443",
   "metadata": {
    "colab": {
     "base_uri": "https://localhost:8080/"
    },
    "id": "62e1e443",
    "outputId": "f4095728-f155-40f0-80bd-ece5a68f7af8"
   },
   "outputs": [
    {
     "name": "stdout",
     "output_type": "stream",
     "text": [
      "CPU times: user 1min 31s, sys: 1min 15s, total: 2min 47s\n",
      "Wall time: 20min 4s\n"
     ]
    }
   ],
   "source": [
    "%%time\n",
    "# define model and parameters to loop through\n",
    "model = RidgeClassifier()\n",
    "alpha = list(np.linspace(0.15,0.4, 5))\n",
    "grid = dict(alpha=alpha)\n",
    "\n",
    "GS = GridSearchCV(estimator=model, param_grid=grid, n_jobs=-1, cv=5, scoring='f1_weighted', error_score=0)\n",
    "GS.fit(X_train, y_train)\n",
    "\n",
    "y_pred = GS.predict(X_test)\n",
    "f1_macro = metrics.f1_score(y_test, y_pred, average='macro')\n",
    "f1_weighted = metrics.f1_score(y_test, y_pred, average='weighted')\n"
   ]
  },
  {
   "cell_type": "code",
   "execution_count": 92,
   "id": "e90c0e7b",
   "metadata": {
    "colab": {
     "base_uri": "https://localhost:8080/"
    },
    "id": "e90c0e7b",
    "outputId": "e1919676-d955-4c6c-ebb3-9b9f451b7537"
   },
   "outputs": [
    {
     "name": "stdout",
     "output_type": "stream",
     "text": [
      "0.9990909703043116\n",
      "{'alpha': 0.2125}\n",
      "RidgeClassifier(alpha=0.2125, class_weight=None, copy_X=True,\n",
      "                fit_intercept=True, max_iter=None, normalize=False,\n",
      "                random_state=None, solver='auto', tol=0.001)\n"
     ]
    }
   ],
   "source": [
    "print(GS.best_score_)\n",
    "print(GS.best_params_)     # The parameters we want\n",
    "print(GS.best_estimator_) "
   ]
  },
  {
   "cell_type": "markdown",
   "id": "fe9935f3",
   "metadata": {
    "id": "fe9935f3"
   },
   "source": [
    "#### SGDClassifier(random_state=1)"
   ]
  },
  {
   "cell_type": "code",
   "execution_count": 99,
   "id": "b4566253",
   "metadata": {
    "colab": {
     "base_uri": "https://localhost:8080/"
    },
    "id": "b4566253",
    "outputId": "f530e8ff-d76a-4183-d344-5980ed65e31c"
   },
   "outputs": [
    {
     "data": {
      "text/plain": [
       "{'alpha': 0.0001,\n",
       " 'average': False,\n",
       " 'class_weight': None,\n",
       " 'early_stopping': False,\n",
       " 'epsilon': 0.1,\n",
       " 'eta0': 0.0,\n",
       " 'fit_intercept': True,\n",
       " 'l1_ratio': 0.15,\n",
       " 'learning_rate': 'optimal',\n",
       " 'loss': 'hinge',\n",
       " 'max_iter': 1000,\n",
       " 'model': SGDClassifier(alpha=0.0001, average=False, class_weight=None,\n",
       "               early_stopping=False, epsilon=0.1, eta0=0.0, fit_intercept=True,\n",
       "               l1_ratio=0.15, learning_rate='optimal', loss='hinge',\n",
       "               max_iter=1000, n_iter_no_change=5, n_jobs=None, penalty='l2',\n",
       "               power_t=0.5, random_state=1, shuffle=True, tol=0.001,\n",
       "               validation_fraction=0.1, verbose=0, warm_start=False),\n",
       " 'n_iter_no_change': 5,\n",
       " 'n_jobs': None,\n",
       " 'penalty': 'l2',\n",
       " 'power_t': 0.5,\n",
       " 'random_state': 1,\n",
       " 'shuffle': True,\n",
       " 'tol': 0.001,\n",
       " 'validation_fraction': 0.1,\n",
       " 'verbose': 0,\n",
       " 'warm_start': False}"
      ]
     },
     "execution_count": 99,
     "metadata": {
      "tags": []
     },
     "output_type": "execute_result"
    }
   ],
   "source": [
    "#Current Hyperparameters\n",
    "model_params[classifiers[1].__class__.__name__]"
   ]
  },
  {
   "cell_type": "code",
   "execution_count": 109,
   "id": "3d64bb8a",
   "metadata": {
    "colab": {
     "base_uri": "https://localhost:8080/"
    },
    "id": "3d64bb8a",
    "outputId": "1283263d-b01e-4b6d-b8f1-0c6aed015540"
   },
   "outputs": [
    {
     "name": "stdout",
     "output_type": "stream",
     "text": [
      "CPU times: user 4.05 s, sys: 1.2 s, total: 5.25 s\n",
      "Wall time: 41.6 s\n"
     ]
    }
   ],
   "source": [
    "%%time\n",
    "# define model and parameters to loop through\n",
    "model = SGDClassifier(random_state=1)\n",
    "\n",
    "model = SGDClassifier()\n",
    "alpha = [0.000017]\n",
    "max_iter = [10000]\n",
    "\n",
    "# define grid search\n",
    "grid = dict(alpha=alpha, max_iter=max_iter, power_t=power_t)\n",
    "\n",
    "GS = GridSearchCV(estimator=model, param_grid=grid, n_jobs=-1, cv=5, scoring='f1_weighted', error_score=0)\n",
    "GS.fit(X_train, y_train)\n",
    "\n",
    "y_pred = GS.predict(X_test)\n",
    "f1_macro = metrics.f1_score(y_test, y_pred, average='macro')\n",
    "f1_weighted = metrics.f1_score(y_test, y_pred, average='weighted')\n"
   ]
  },
  {
   "cell_type": "code",
   "execution_count": 110,
   "id": "dfec4cc3",
   "metadata": {
    "colab": {
     "base_uri": "https://localhost:8080/"
    },
    "id": "dfec4cc3",
    "outputId": "07d19a59-1a5f-4260-f7cd-2a4903b40cae"
   },
   "outputs": [
    {
     "name": "stdout",
     "output_type": "stream",
     "text": [
      "0.9990404670260455\n",
      "{'alpha': 1.7e-05, 'max_iter': 10000, 'power_t': 0.32}\n",
      "SGDClassifier(alpha=1.7e-05, average=False, class_weight=None,\n",
      "              early_stopping=False, epsilon=0.1, eta0=0.0, fit_intercept=True,\n",
      "              l1_ratio=0.15, learning_rate='optimal', loss='hinge',\n",
      "              max_iter=10000, n_iter_no_change=5, n_jobs=None, penalty='l2',\n",
      "              power_t=0.32, random_state=None, shuffle=True, tol=0.001,\n",
      "              validation_fraction=0.1, verbose=0, warm_start=False)\n"
     ]
    }
   ],
   "source": [
    "print(GS.best_score_)\n",
    "print(GS.best_params_)     # The parameters we want\n",
    "print(GS.best_estimator_) "
   ]
  },
  {
   "cell_type": "markdown",
   "id": "820cf12f",
   "metadata": {
    "id": "820cf12f"
   },
   "source": [
    "#### MultinomialNB"
   ]
  },
  {
   "cell_type": "code",
   "execution_count": 112,
   "id": "2d28969f",
   "metadata": {
    "colab": {
     "base_uri": "https://localhost:8080/"
    },
    "id": "2d28969f",
    "outputId": "e70d781f-7d73-4c58-e7fa-a73b2cda3d72"
   },
   "outputs": [
    {
     "data": {
      "text/plain": [
       "{'alpha': 1.0,\n",
       " 'class_prior': None,\n",
       " 'fit_prior': True,\n",
       " 'model': MultinomialNB(alpha=1.0, class_prior=None, fit_prior=True)}"
      ]
     },
     "execution_count": 112,
     "metadata": {
      "tags": []
     },
     "output_type": "execute_result"
    }
   ],
   "source": [
    "#Current Hyperparameters\n",
    "model_params[classifiers[2].__class__.__name__]"
   ]
  },
  {
   "cell_type": "code",
   "execution_count": 116,
   "id": "2ebf1fb3",
   "metadata": {
    "colab": {
     "base_uri": "https://localhost:8080/"
    },
    "id": "2ebf1fb3",
    "outputId": "15ebe9da-3723-4089-920e-796b11a3567a"
   },
   "outputs": [
    {
     "name": "stdout",
     "output_type": "stream",
     "text": [
      "CPU times: user 767 ms, sys: 65.6 ms, total: 832 ms\n",
      "Wall time: 8.38 s\n"
     ]
    }
   ],
   "source": [
    "%%time\n",
    "# define model and parameters to loop through\n",
    "model = MultinomialNB()\n",
    "\n",
    "alpha = list(np.linspace(0.1,0.02,4))\n",
    "grid = dict(alpha=alpha)\n",
    "\n",
    "GS = GridSearchCV(estimator=model, param_grid=grid, n_jobs=-1, cv=5, scoring='f1_weighted', error_score=0)\n",
    "GS.fit(X_train, y_train)\n",
    "\n",
    "y_pred = GS.predict(X_test)\n",
    "f1_macro = metrics.f1_score(y_test, y_pred, average='macro')\n",
    "f1_weighted = metrics.f1_score(y_test, y_pred, average='weighted')"
   ]
  },
  {
   "cell_type": "code",
   "execution_count": 117,
   "id": "e2a39a59",
   "metadata": {
    "colab": {
     "base_uri": "https://localhost:8080/"
    },
    "id": "e2a39a59",
    "outputId": "f98eee03-50c2-4979-aa5d-29a7735a2257"
   },
   "outputs": [
    {
     "name": "stdout",
     "output_type": "stream",
     "text": [
      "0.9996969689237549\n",
      "{'alpha': 0.1}\n",
      "MultinomialNB(alpha=0.1, class_prior=None, fit_prior=True)\n"
     ]
    }
   ],
   "source": [
    "print(GS.best_score_)\n",
    "print(GS.best_params_)     # The parameters we want\n",
    "print(GS.best_estimator_) "
   ]
  },
  {
   "cell_type": "code",
   "execution_count": null,
   "id": "8c8428d2",
   "metadata": {
    "id": "8c8428d2"
   },
   "outputs": [],
   "source": []
  },
  {
   "cell_type": "markdown",
   "id": "c6ae3033",
   "metadata": {
    "id": "c6ae3033"
   },
   "source": [
    "### Choosing The Best Models after Tuning"
   ]
  },
  {
   "cell_type": "code",
   "execution_count": 123,
   "id": "5a7530c9",
   "metadata": {
    "id": "5a7530c9"
   },
   "outputs": [],
   "source": [
    "X = train['text_clean']\n",
    "y = train['lang_id'] \n",
    "\n",
    "X_train , X_test , y_train , y_test = train_test_split(X, y, test_size=0.4, random_state =1)"
   ]
  },
  {
   "cell_type": "code",
   "execution_count": 124,
   "id": "42eb3bf2",
   "metadata": {
    "id": "42eb3bf2"
   },
   "outputs": [],
   "source": [
    "classifiers = [ MultinomialNB(alpha=0.1),\n",
    "                StackingClassifier(estimators = estimators, final_estimator = final_est, \n",
    "                                  passthrough = True),\n",
    "                LinearSVC(C=0.9, random_state=1),\n",
    "                ComplementNB(alpha=0.18),\n",
    "                SGDClassifier(alpha=1.7e-05, max_iter=10000, power_t=0.32, random_state=1),\n",
    "                RidgeClassifier(alpha=0.2125),\n",
    "              ]"
   ]
  },
  {
   "cell_type": "code",
   "execution_count": 125,
   "id": "44abdeae",
   "metadata": {
    "id": "44abdeae"
   },
   "outputs": [],
   "source": [
    "best_performance_df = model_assessment(classifiers, X_train , X_test , y_train , y_test)\n",
    "best_performance_df.to_csv('best_performance_df.csv')"
   ]
  },
  {
   "cell_type": "code",
   "execution_count": 141,
   "id": "2a73f21c",
   "metadata": {
    "colab": {
     "base_uri": "https://localhost:8080/",
     "height": 235
    },
    "id": "2a73f21c",
    "outputId": "01504f00-088c-4936-8274-9f4465645cef"
   },
   "outputs": [
    {
     "data": {
      "text/html": [
       "<div>\n",
       "<style scoped>\n",
       "    .dataframe tbody tr th:only-of-type {\n",
       "        vertical-align: middle;\n",
       "    }\n",
       "\n",
       "    .dataframe tbody tr th {\n",
       "        vertical-align: top;\n",
       "    }\n",
       "\n",
       "    .dataframe thead th {\n",
       "        text-align: right;\n",
       "    }\n",
       "</style>\n",
       "<table border=\"1\" class=\"dataframe\">\n",
       "  <thead>\n",
       "    <tr style=\"text-align: right;\">\n",
       "      <th></th>\n",
       "      <th>F1-Macro</th>\n",
       "      <th>F1-Accuracy</th>\n",
       "      <th>F1-Weighted</th>\n",
       "      <th>Execution Time</th>\n",
       "    </tr>\n",
       "  </thead>\n",
       "  <tbody>\n",
       "    <tr>\n",
       "      <th>MultinomialNB</th>\n",
       "      <td>0.999848</td>\n",
       "      <td>0.999848</td>\n",
       "      <td>0.999848</td>\n",
       "      <td>22.385005</td>\n",
       "    </tr>\n",
       "    <tr>\n",
       "      <th>StackingClassifier</th>\n",
       "      <td>0.999848</td>\n",
       "      <td>0.999848</td>\n",
       "      <td>0.999848</td>\n",
       "      <td>94.524046</td>\n",
       "    </tr>\n",
       "    <tr>\n",
       "      <th>LinearSVC</th>\n",
       "      <td>0.999549</td>\n",
       "      <td>0.999545</td>\n",
       "      <td>0.999546</td>\n",
       "      <td>27.261466</td>\n",
       "    </tr>\n",
       "    <tr>\n",
       "      <th>SGDClassifier</th>\n",
       "      <td>0.999473</td>\n",
       "      <td>0.999470</td>\n",
       "      <td>0.999470</td>\n",
       "      <td>26.462303</td>\n",
       "    </tr>\n",
       "    <tr>\n",
       "      <th>RidgeClassifier</th>\n",
       "      <td>0.999322</td>\n",
       "      <td>0.999318</td>\n",
       "      <td>0.999318</td>\n",
       "      <td>100.041523</td>\n",
       "    </tr>\n",
       "    <tr>\n",
       "      <th>ComplementNB</th>\n",
       "      <td>0.998159</td>\n",
       "      <td>0.998182</td>\n",
       "      <td>0.998186</td>\n",
       "      <td>23.271741</td>\n",
       "    </tr>\n",
       "  </tbody>\n",
       "</table>\n",
       "</div>"
      ],
      "text/plain": [
       "                    F1-Macro  F1-Accuracy  F1-Weighted  Execution Time\n",
       "MultinomialNB       0.999848     0.999848     0.999848       22.385005\n",
       "StackingClassifier  0.999848     0.999848     0.999848       94.524046\n",
       "LinearSVC           0.999549     0.999545     0.999546       27.261466\n",
       "SGDClassifier       0.999473     0.999470     0.999470       26.462303\n",
       "RidgeClassifier     0.999322     0.999318     0.999318      100.041523\n",
       "ComplementNB        0.998159     0.998182     0.998186       23.271741"
      ]
     },
     "execution_count": 141,
     "metadata": {
      "tags": []
     },
     "output_type": "execute_result"
    }
   ],
   "source": [
    "best_performance_df = pd.read_csv('best_performance_df.csv', index_col = 0) \n",
    "best_performance_df.sort_values('F1-Weighted', ascending = False)"
   ]
  },
  {
   "cell_type": "markdown",
   "id": "f7779806",
   "metadata": {
    "id": "f7779806"
   },
   "source": [
    "### Submission"
   ]
  },
  {
   "cell_type": "markdown",
   "id": "F9ly8hmFLd8w",
   "metadata": {
    "id": "F9ly8hmFLd8w"
   },
   "source": [
    "#### Stacking Classifier"
   ]
  },
  {
   "cell_type": "code",
   "execution_count": null,
   "id": "qyrO3684LQ-H",
   "metadata": {
    "id": "qyrO3684LQ-H"
   },
   "outputs": [],
   "source": [
    "%%time\n",
    "multiNB1 = MultinomialNB(alpha=0.1)\n",
    "multiNB2 = MultinomialNB(alpha=0.1)\n",
    "\n",
    "estimators = [('multiNB1', multiNB1), ('multiNB2', multiNB2)]\n",
    "final_est = RidgeClassifier(alpha=0.2125)\n",
    "\n",
    "stacking_clf = StackingClassifier(estimators = estimators, final_estimator = final_est, \n",
    "                                  passthrough = True)\n",
    "\n",
    "X = train['text_clean']\n",
    "y = train['lang_id'] \n",
    "\n",
    "vect = TfidfVectorizer(stop_words = 'english', max_df=0.9, ngram_range=(2, 6), analyzer= 'char')\n",
    "\n",
    "X_train , X_test , y_train , y_test = train_test_split(X, y, stratify=y,test_size=0.05, random_state =1)\n",
    "X_train = vect.fit_transform(X_train)\n",
    "X_test = vect.transform(X_test)\n",
    "\n",
    "stacking_clf.fit(X_train, y_train)\n",
    "\n",
    "y_pred = stacking_clf.predict(X_test)\n",
    "f1_weighted = metrics.f1_score(y_test, y_pred, average='weighted')\n",
    "print(f1_weighted)"
   ]
  },
  {
   "cell_type": "markdown",
   "id": "DEG4FAhbLmtU",
   "metadata": {
    "id": "DEG4FAhbLmtU"
   },
   "source": [
    "#### MultinomialNB"
   ]
  },
  {
   "cell_type": "code",
   "execution_count": 210,
   "id": "c33e7b9d",
   "metadata": {
    "colab": {
     "base_uri": "https://localhost:8080/"
    },
    "id": "c33e7b9d",
    "outputId": "cdd87248-0224-4111-a520-2cb00d62739b"
   },
   "outputs": [
    {
     "name": "stdout",
     "output_type": "stream",
     "text": [
      "1.0\n"
     ]
    }
   ],
   "source": [
    "model = MultinomialNB(alpha=0.1)\n",
    "\n",
    "X = train['text_clean']\n",
    "y = train['lang_id'] \n",
    "\n",
    "vect = TfidfVectorizer(stop_words = 'english', max_df=0.9, ngram_range=(2, 6), analyzer= 'char')\n",
    "\n",
    "X_train , X_test , y_train , y_test = train_test_split(X, y, test_size=0.05, stratify=y,shuffle=True, random_state =1)\n",
    "X_train = vect.fit_transform(X_train)\n",
    "X_test = vect.transform(X_test)\n",
    "\n",
    "model.fit(X_train, y_train)\n",
    "y_pred = model.predict(X_test)\n",
    "f1_weighted = metrics.f1_score(y_test, y_pred, average='weighted')\n",
    "print(f1_weighted)"
   ]
  },
  {
   "cell_type": "code",
   "execution_count": 208,
   "id": "1c65ff7b",
   "metadata": {
    "id": "1c65ff7b"
   },
   "outputs": [],
   "source": [
    "X = test['text_clean']\n",
    "\n",
    "X_vect = vect.transform(X)\n",
    "\n",
    "# Predict\n",
    "test['lang_id'] = stacking_clf.predict(X_vect)  # or   test['lang_id'] = model.predict(X_vect)"
   ]
  },
  {
   "cell_type": "code",
   "execution_count": 209,
   "id": "4704c244",
   "metadata": {
    "id": "4704c244"
   },
   "outputs": [],
   "source": [
    "submission = test[['index', 'lang_id']]\n",
    "submission.to_csv('stacking_clf_0.csv',index=False)"
   ]
  },
  {
   "cell_type": "code",
   "execution_count": 199,
   "id": "f44ca5bc",
   "metadata": {
    "colab": {
     "base_uri": "https://localhost:8080/",
     "height": 419
    },
    "id": "f44ca5bc",
    "outputId": "41603bcf-b507-443d-989d-e8880ba51e75",
    "scrolled": false
   },
   "outputs": [
    {
     "data": {
      "text/html": [
       "<div>\n",
       "<style scoped>\n",
       "    .dataframe tbody tr th:only-of-type {\n",
       "        vertical-align: middle;\n",
       "    }\n",
       "\n",
       "    .dataframe tbody tr th {\n",
       "        vertical-align: top;\n",
       "    }\n",
       "\n",
       "    .dataframe thead th {\n",
       "        text-align: right;\n",
       "    }\n",
       "</style>\n",
       "<table border=\"1\" class=\"dataframe\">\n",
       "  <thead>\n",
       "    <tr style=\"text-align: right;\">\n",
       "      <th></th>\n",
       "      <th>index</th>\n",
       "      <th>lang_id</th>\n",
       "    </tr>\n",
       "  </thead>\n",
       "  <tbody>\n",
       "    <tr>\n",
       "      <th>0</th>\n",
       "      <td>1</td>\n",
       "      <td>tsn</td>\n",
       "    </tr>\n",
       "    <tr>\n",
       "      <th>1</th>\n",
       "      <td>2</td>\n",
       "      <td>nbl</td>\n",
       "    </tr>\n",
       "    <tr>\n",
       "      <th>2</th>\n",
       "      <td>3</td>\n",
       "      <td>ven</td>\n",
       "    </tr>\n",
       "    <tr>\n",
       "      <th>3</th>\n",
       "      <td>4</td>\n",
       "      <td>ssw</td>\n",
       "    </tr>\n",
       "    <tr>\n",
       "      <th>4</th>\n",
       "      <td>5</td>\n",
       "      <td>afr</td>\n",
       "    </tr>\n",
       "    <tr>\n",
       "      <th>...</th>\n",
       "      <td>...</td>\n",
       "      <td>...</td>\n",
       "    </tr>\n",
       "    <tr>\n",
       "      <th>5677</th>\n",
       "      <td>5678</td>\n",
       "      <td>eng</td>\n",
       "    </tr>\n",
       "    <tr>\n",
       "      <th>5678</th>\n",
       "      <td>5679</td>\n",
       "      <td>nso</td>\n",
       "    </tr>\n",
       "    <tr>\n",
       "      <th>5679</th>\n",
       "      <td>5680</td>\n",
       "      <td>sot</td>\n",
       "    </tr>\n",
       "    <tr>\n",
       "      <th>5680</th>\n",
       "      <td>5681</td>\n",
       "      <td>sot</td>\n",
       "    </tr>\n",
       "    <tr>\n",
       "      <th>5681</th>\n",
       "      <td>5682</td>\n",
       "      <td>nbl</td>\n",
       "    </tr>\n",
       "  </tbody>\n",
       "</table>\n",
       "<p>5682 rows × 2 columns</p>\n",
       "</div>"
      ],
      "text/plain": [
       "      index lang_id\n",
       "0         1     tsn\n",
       "1         2     nbl\n",
       "2         3     ven\n",
       "3         4     ssw\n",
       "4         5     afr\n",
       "...     ...     ...\n",
       "5677   5678     eng\n",
       "5678   5679     nso\n",
       "5679   5680     sot\n",
       "5680   5681     sot\n",
       "5681   5682     nbl\n",
       "\n",
       "[5682 rows x 2 columns]"
      ]
     },
     "execution_count": 199,
     "metadata": {
      "tags": []
     },
     "output_type": "execute_result"
    }
   ],
   "source": [
    "submission"
   ]
  },
  {
   "cell_type": "code",
   "execution_count": null,
   "id": "hDMr4zPN06tT",
   "metadata": {
    "id": "hDMr4zPN06tT"
   },
   "outputs": [],
   "source": []
  }
 ],
 "metadata": {
  "accelerator": "GPU",
  "colab": {
   "collapsed_sections": [],
   "name": "Daniel_Bruintjies_Classification_Hackathon.ipynb",
   "provenance": []
  },
  "kernelspec": {
   "display_name": "Python 3",
   "language": "python",
   "name": "python3"
  },
  "language_info": {
   "codemirror_mode": {
    "name": "ipython",
    "version": 3
   },
   "file_extension": ".py",
   "mimetype": "text/x-python",
   "name": "python",
   "nbconvert_exporter": "python",
   "pygments_lexer": "ipython3",
   "version": "3.8.8"
  }
 },
 "nbformat": 4,
 "nbformat_minor": 5
}
