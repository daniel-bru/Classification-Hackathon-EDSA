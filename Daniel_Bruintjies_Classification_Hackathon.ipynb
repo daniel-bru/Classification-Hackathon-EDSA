{
 "cells": [
  {
   "cell_type": "markdown",
   "id": "8311ef5b",
   "metadata": {},
   "source": [
    "# Classification Hackathon\n",
    "\n",
    "### DANIEL BRUINTJIES"
   ]
  },
  {
   "cell_type": "code",
   "execution_count": 67,
   "id": "7b6ffe7e",
   "metadata": {},
   "outputs": [],
   "source": [
    "# Standard\n",
    "import pandas as pd\n",
    "import numpy as np\n",
    "import time\n",
    "\n",
    "import matplotlib.pyplot as plt\n",
    "%matplotlib inline\n",
    "\n",
    "# Natural language Processing\n",
    "import re\n",
    "import nltk\n",
    "import spacy\n",
    "import string\n",
    "from nltk.stem import WordNetLemmatizer\n",
    "from sklearn.pipeline import Pipeline\n",
    "from sklearn.feature_extraction.text import TfidfVectorizer, CountVectorizer\n",
    "\n",
    "# Models\n",
    "from sklearn.svm import LinearSVC, SVC\n",
    "from sklearn.naive_bayes import MultinomialNB, ComplementNB\n",
    "from sklearn.tree import DecisionTreeClassifier\n",
    "from sklearn.neighbors import KNeighborsClassifier\n",
    "from sklearn.model_selection import train_test_split, KFold\n",
    "from sklearn.linear_model import LogisticRegression, SGDClassifier, RidgeClassifier\n",
    "from sklearn.model_selection import cross_val_score, GridSearchCV, RepeatedStratifiedKFold\n",
    "from sklearn.ensemble import RandomForestClassifier, AdaBoostClassifier, ExtraTreesClassifier, StackingClassifier\n",
    "\n",
    "# Performance\n",
    "from sklearn.metrics import f1_score\n",
    "from sklearn import metrics\n",
    "\n",
    "# Saving\n",
    "import pickle"
   ]
  },
  {
   "cell_type": "code",
   "execution_count": 68,
   "id": "a179689b",
   "metadata": {},
   "outputs": [],
   "source": [
    "pd.set_option('display.max_colwidth', None)\n",
    "train = pd.read_csv(\"train_set.csv\")\n",
    "test = pd.read_csv(\"test_set.csv\")"
   ]
  },
  {
   "cell_type": "code",
   "execution_count": 69,
   "id": "bf6e7ca7",
   "metadata": {},
   "outputs": [
    {
     "name": "stdout",
     "output_type": "stream",
     "text": [
      "(33000, 2)\n",
      "(5682, 2)\n"
     ]
    }
   ],
   "source": [
    "print(train.shape)\n",
    "print(test.shape)"
   ]
  },
  {
   "cell_type": "code",
   "execution_count": 70,
   "id": "2cc1cd1c",
   "metadata": {},
   "outputs": [
    {
     "name": "stdout",
     "output_type": "stream",
     "text": [
      "0.17218181818181819\n"
     ]
    }
   ],
   "source": [
    "test_size = 5682/33000 \n",
    "print(test_size)"
   ]
  },
  {
   "cell_type": "code",
   "execution_count": 71,
   "id": "ecb29948",
   "metadata": {},
   "outputs": [
    {
     "name": "stdout",
     "output_type": "stream",
     "text": [
      "<class 'pandas.core.frame.DataFrame'>\n",
      "RangeIndex: 33000 entries, 0 to 32999\n",
      "Data columns (total 2 columns):\n",
      " #   Column   Non-Null Count  Dtype \n",
      "---  ------   --------------  ----- \n",
      " 0   lang_id  33000 non-null  object\n",
      " 1   text     33000 non-null  object\n",
      "dtypes: object(2)\n",
      "memory usage: 515.8+ KB\n"
     ]
    }
   ],
   "source": [
    "train.info()"
   ]
  },
  {
   "cell_type": "code",
   "execution_count": 72,
   "id": "18256f19",
   "metadata": {},
   "outputs": [
    {
     "data": {
      "text/html": [
       "<div>\n",
       "<style scoped>\n",
       "    .dataframe tbody tr th:only-of-type {\n",
       "        vertical-align: middle;\n",
       "    }\n",
       "\n",
       "    .dataframe tbody tr th {\n",
       "        vertical-align: top;\n",
       "    }\n",
       "\n",
       "    .dataframe thead th {\n",
       "        text-align: right;\n",
       "    }\n",
       "</style>\n",
       "<table border=\"1\" class=\"dataframe\">\n",
       "  <thead>\n",
       "    <tr style=\"text-align: right;\">\n",
       "      <th></th>\n",
       "      <th>index</th>\n",
       "      <th>text</th>\n",
       "    </tr>\n",
       "  </thead>\n",
       "  <tbody>\n",
       "    <tr>\n",
       "      <th>0</th>\n",
       "      <td>1</td>\n",
       "      <td>Mmasepala, fa maemo a a kgethegileng a letlelela kgato eo.</td>\n",
       "    </tr>\n",
       "    <tr>\n",
       "      <th>1</th>\n",
       "      <td>2</td>\n",
       "      <td>Uzakwaziswa ngokufaneleko nakungafuneka eminye imitlolo engezelelako ukuqedelela ukutloliswa kwesibawo sakho.</td>\n",
       "    </tr>\n",
       "    <tr>\n",
       "      <th>2</th>\n",
       "      <td>3</td>\n",
       "      <td>Tshivhumbeo tshi fana na ngano dza vhathu.</td>\n",
       "    </tr>\n",
       "    <tr>\n",
       "      <th>3</th>\n",
       "      <td>4</td>\n",
       "      <td>Kube inja nelikati betingevakala kutsi titsini naticocisana.</td>\n",
       "    </tr>\n",
       "    <tr>\n",
       "      <th>4</th>\n",
       "      <td>5</td>\n",
       "      <td>Winste op buitelandse valuta.</td>\n",
       "    </tr>\n",
       "  </tbody>\n",
       "</table>\n",
       "</div>"
      ],
      "text/plain": [
       "   index  \\\n",
       "0      1   \n",
       "1      2   \n",
       "2      3   \n",
       "3      4   \n",
       "4      5   \n",
       "\n",
       "                                                                                                            text  \n",
       "0                                                     Mmasepala, fa maemo a a kgethegileng a letlelela kgato eo.  \n",
       "1  Uzakwaziswa ngokufaneleko nakungafuneka eminye imitlolo engezelelako ukuqedelela ukutloliswa kwesibawo sakho.  \n",
       "2                                                                     Tshivhumbeo tshi fana na ngano dza vhathu.  \n",
       "3                                                   Kube inja nelikati betingevakala kutsi titsini naticocisana.  \n",
       "4                                                                                  Winste op buitelandse valuta.  "
      ]
     },
     "execution_count": 72,
     "metadata": {},
     "output_type": "execute_result"
    }
   ],
   "source": [
    "test.head()"
   ]
  },
  {
   "cell_type": "code",
   "execution_count": 73,
   "id": "f8f440da",
   "metadata": {},
   "outputs": [],
   "source": [
    "def clean_text(text):\n",
    "    \"\"\"\n",
    "    A function to preprocess the text\n",
    "    :param message: String, text to be cleaned\n",
    "    return: String, text\n",
    "    \"\"\"\n",
    "    text = text.lower()\n",
    "    # removing punctuation and digits\n",
    "    text = re.sub(r'[-]',' ',text)\n",
    "    text = re.sub(r'[_]', ' ', text)\n",
    "    text = re.sub(r'[^\\w\\s]','',text)\n",
    "    text = re.sub('[0-9]+', '', text) \n",
    "    text = re.sub(\"\\\\s+\", \" \", text)  # fills white spaces\n",
    "    text = text.lstrip()  # removes whitespaces before string\n",
    "    text = text.rstrip()  # removes whitespaces after string\n",
    "\n",
    "    return text"
   ]
  },
  {
   "cell_type": "code",
   "execution_count": 74,
   "id": "9ce115e9",
   "metadata": {},
   "outputs": [
    {
     "name": "stdout",
     "output_type": "stream",
     "text": [
      "Wall time: 1.23 s\n"
     ]
    }
   ],
   "source": [
    "%%time\n",
    "train['text_clean']=train['text'].apply(clean_text) \n",
    "test['text_clean']=test['text'].apply(clean_text)"
   ]
  },
  {
   "cell_type": "code",
   "execution_count": 75,
   "id": "e214c772",
   "metadata": {},
   "outputs": [
    {
     "data": {
      "text/html": [
       "<div>\n",
       "<style scoped>\n",
       "    .dataframe tbody tr th:only-of-type {\n",
       "        vertical-align: middle;\n",
       "    }\n",
       "\n",
       "    .dataframe tbody tr th {\n",
       "        vertical-align: top;\n",
       "    }\n",
       "\n",
       "    .dataframe thead th {\n",
       "        text-align: right;\n",
       "    }\n",
       "</style>\n",
       "<table border=\"1\" class=\"dataframe\">\n",
       "  <thead>\n",
       "    <tr style=\"text-align: right;\">\n",
       "      <th></th>\n",
       "      <th>lang_id</th>\n",
       "      <th>text</th>\n",
       "      <th>text_clean</th>\n",
       "    </tr>\n",
       "  </thead>\n",
       "  <tbody>\n",
       "    <tr>\n",
       "      <th>0</th>\n",
       "      <td>xho</td>\n",
       "      <td>umgaqo-siseko wenza amalungiselelo kumaziko axhasa ulawulo lwesininzi kunye nokuthath inxaxheba kwabafazi ezi ziquka phakathi kwezinye zazo ikomishoni yokulingana ngokwesini ikomishoni yamalungelo oluntu lomzantsi afrika</td>\n",
       "      <td>umgaqo siseko wenza amalungiselelo kumaziko axhasa ulawulo lwesininzi kunye nokuthath inxaxheba kwabafazi ezi ziquka phakathi kwezinye zazo ikomishoni yokulingana ngokwesini ikomishoni yamalungelo oluntu lomzantsi afrika</td>\n",
       "    </tr>\n",
       "    <tr>\n",
       "      <th>1</th>\n",
       "      <td>xho</td>\n",
       "      <td>i-dha iya kuba nobulumko bokubeka umsebenzi naphi na kwisebe ngokusekwe kwiimfuno zokusebenza zalo emva kokubonana nomsebenzi kunye okanye imanyano yakhe ukuba ulandulo lomntu onjalo alufanelekanga i-dha mayibize uncedo olufanelekileyo elungelweni layo</td>\n",
       "      <td>i dha iya kuba nobulumko bokubeka umsebenzi naphi na kwisebe ngokusekwe kwiimfuno zokusebenza zalo emva kokubonana nomsebenzi kunye okanye imanyano yakhe ukuba ulandulo lomntu onjalo alufanelekanga i dha mayibize uncedo olufanelekileyo elungelweni layo</td>\n",
       "    </tr>\n",
       "    <tr>\n",
       "      <th>2</th>\n",
       "      <td>eng</td>\n",
       "      <td>the province of kwazulu-natal department of transport invites tenders from established contractors experienced in bridge construction for the construction of the kwajolwayo tugela river pedestrian bridge near tugela ferry the duration of the project will be months</td>\n",
       "      <td>the province of kwazulu natal department of transport invites tenders from established contractors experienced in bridge construction for the construction of the kwajolwayo tugela river pedestrian bridge near tugela ferry the duration of the project will be months</td>\n",
       "    </tr>\n",
       "    <tr>\n",
       "      <th>3</th>\n",
       "      <td>nso</td>\n",
       "      <td>o netefatša gore o ba file dilo ka moka tše le dumelelanego ka tšona mohlala maleri a magolo a a šomišwago go fihlelela meagong e metelele scaffolds a a bolokegilego lefelo la maleba la go šomela go phela gabotse bjbj</td>\n",
       "      <td>o netefatša gore o ba file dilo ka moka tše le dumelelanego ka tšona mohlala maleri a magolo a a šomišwago go fihlelela meagong e metelele scaffolds a a bolokegilego lefelo la maleba la go šomela go phela gabotse bjbj</td>\n",
       "    </tr>\n",
       "    <tr>\n",
       "      <th>4</th>\n",
       "      <td>ven</td>\n",
       "      <td>khomishini ya ndinganyiso ya mbeu yo ewa maana u ya nga mulayo wa khomishini ya ndinganyiso ya mbeu u thetshelesa mbilaelo dzine dza tshimbilelana na tshialula u ya nga mbeu nahone i ivhea sa foramu ya thungo u ya nga mulayo wa ndinganyiso</td>\n",
       "      <td>khomishini ya ndinganyiso ya mbeu yo ewa maana u ya nga mulayo wa khomishini ya ndinganyiso ya mbeu u thetshelesa mbilaelo dzine dza tshimbilelana na tshialula u ya nga mbeu nahone i ivhea sa foramu ya thungo u ya nga mulayo wa ndinganyiso</td>\n",
       "    </tr>\n",
       "  </tbody>\n",
       "</table>\n",
       "</div>"
      ],
      "text/plain": [
       "  lang_id  \\\n",
       "0     xho   \n",
       "1     xho   \n",
       "2     eng   \n",
       "3     nso   \n",
       "4     ven   \n",
       "\n",
       "                                                                                                                                                                                                                                                                       text  \\\n",
       "0                                              umgaqo-siseko wenza amalungiselelo kumaziko axhasa ulawulo lwesininzi kunye nokuthath inxaxheba kwabafazi ezi ziquka phakathi kwezinye zazo ikomishoni yokulingana ngokwesini ikomishoni yamalungelo oluntu lomzantsi afrika   \n",
       "1              i-dha iya kuba nobulumko bokubeka umsebenzi naphi na kwisebe ngokusekwe kwiimfuno zokusebenza zalo emva kokubonana nomsebenzi kunye okanye imanyano yakhe ukuba ulandulo lomntu onjalo alufanelekanga i-dha mayibize uncedo olufanelekileyo elungelweni layo   \n",
       "2  the province of kwazulu-natal department of transport invites tenders from established contractors experienced in bridge construction for the construction of the kwajolwayo tugela river pedestrian bridge near tugela ferry the duration of the project will be months   \n",
       "3                                                 o netefatša gore o ba file dilo ka moka tše le dumelelanego ka tšona mohlala maleri a magolo a a šomišwago go fihlelela meagong e metelele scaffolds a a bolokegilego lefelo la maleba la go šomela go phela gabotse bjbj   \n",
       "4                           khomishini ya ndinganyiso ya mbeu yo ewa maana u ya nga mulayo wa khomishini ya ndinganyiso ya mbeu u thetshelesa mbilaelo dzine dza tshimbilelana na tshialula u ya nga mbeu nahone i ivhea sa foramu ya thungo u ya nga mulayo wa ndinganyiso   \n",
       "\n",
       "                                                                                                                                                                                                                                                                 text_clean  \n",
       "0                                              umgaqo siseko wenza amalungiselelo kumaziko axhasa ulawulo lwesininzi kunye nokuthath inxaxheba kwabafazi ezi ziquka phakathi kwezinye zazo ikomishoni yokulingana ngokwesini ikomishoni yamalungelo oluntu lomzantsi afrika  \n",
       "1              i dha iya kuba nobulumko bokubeka umsebenzi naphi na kwisebe ngokusekwe kwiimfuno zokusebenza zalo emva kokubonana nomsebenzi kunye okanye imanyano yakhe ukuba ulandulo lomntu onjalo alufanelekanga i dha mayibize uncedo olufanelekileyo elungelweni layo  \n",
       "2  the province of kwazulu natal department of transport invites tenders from established contractors experienced in bridge construction for the construction of the kwajolwayo tugela river pedestrian bridge near tugela ferry the duration of the project will be months  \n",
       "3                                                 o netefatša gore o ba file dilo ka moka tše le dumelelanego ka tšona mohlala maleri a magolo a a šomišwago go fihlelela meagong e metelele scaffolds a a bolokegilego lefelo la maleba la go šomela go phela gabotse bjbj  \n",
       "4                           khomishini ya ndinganyiso ya mbeu yo ewa maana u ya nga mulayo wa khomishini ya ndinganyiso ya mbeu u thetshelesa mbilaelo dzine dza tshimbilelana na tshialula u ya nga mbeu nahone i ivhea sa foramu ya thungo u ya nga mulayo wa ndinganyiso  "
      ]
     },
     "execution_count": 75,
     "metadata": {},
     "output_type": "execute_result"
    }
   ],
   "source": [
    "train.head()"
   ]
  },
  {
   "cell_type": "code",
   "execution_count": 127,
   "id": "9ec036f4",
   "metadata": {
    "scrolled": false
   },
   "outputs": [
    {
     "data": {
      "text/html": [
       "<div>\n",
       "<style scoped>\n",
       "    .dataframe tbody tr th:only-of-type {\n",
       "        vertical-align: middle;\n",
       "    }\n",
       "\n",
       "    .dataframe tbody tr th {\n",
       "        vertical-align: top;\n",
       "    }\n",
       "\n",
       "    .dataframe thead th {\n",
       "        text-align: right;\n",
       "    }\n",
       "</style>\n",
       "<table border=\"1\" class=\"dataframe\">\n",
       "  <thead>\n",
       "    <tr style=\"text-align: right;\">\n",
       "      <th></th>\n",
       "      <th>index</th>\n",
       "      <th>text</th>\n",
       "      <th>text_clean</th>\n",
       "      <th>lang_id</th>\n",
       "    </tr>\n",
       "  </thead>\n",
       "  <tbody>\n",
       "    <tr>\n",
       "      <th>5677</th>\n",
       "      <td>5678</td>\n",
       "      <td>You mark your ballot in private.</td>\n",
       "      <td>you mark your ballot in private</td>\n",
       "      <td>eng</td>\n",
       "    </tr>\n",
       "    <tr>\n",
       "      <th>5678</th>\n",
       "      <td>5679</td>\n",
       "      <td>Ge o ka kgetha ka bowena go se šomiše Mofani ka tirelo yo a kgethilwego wa GEMS (DSP), gona tefelo mmogo e tla šomišwa. Tefelo mmogo yeo e ka nna ya ba phapano magareng ga hlwahlwa ya tirelo le yeo GEMS e ka bego e e lefeletše ge nkabe o šomišitše GEMS DSP Goba persente ya tefelo mmogo go ya ka Melao ya Setlamo ya GEMS.</td>\n",
       "      <td>ge o ka kgetha ka bowena go se šomiše mofani ka tirelo yo a kgethilwego wa gems dsp gona tefelo mmogo e tla šomišwa tefelo mmogo yeo e ka nna ya ba phapano magareng ga hlwahlwa ya tirelo le yeo gems e ka bego e e lefeletše ge nkabe o šomišitše gems dsp goba persente ya tefelo mmogo go ya ka melao ya setlamo ya gems</td>\n",
       "      <td>nso</td>\n",
       "    </tr>\n",
       "    <tr>\n",
       "      <th>5679</th>\n",
       "      <td>5680</td>\n",
       "      <td>E Ka kopo etsa kgetho ya hao ka hloko, hobane ha o na ho kgona ho fetola kgetho ena hara selemo ntle le tumello ya Boto ya Batshwaredi.</td>\n",
       "      <td>e ka kopo etsa kgetho ya hao ka hloko hobane ha o na ho kgona ho fetola kgetho ena hara selemo ntle le tumello ya boto ya batshwaredi</td>\n",
       "      <td>sot</td>\n",
       "    </tr>\n",
       "    <tr>\n",
       "      <th>5680</th>\n",
       "      <td>5681</td>\n",
       "      <td>TB ke bokudi ba PMB, mme Morero o tla lefella tlhahlobo ya ho sheba lefu lena. Leha ho le jwalo, o tlameha ho fumana kalafo ya hao ya TB ditsing tsa Mmuso.</td>\n",
       "      <td>tb ke bokudi ba pmb mme morero o tla lefella tlhahlobo ya ho sheba lefu lena leha ho le jwalo o tlameha ho fumana kalafo ya hao ya tb ditsing tsa mmuso</td>\n",
       "      <td>sot</td>\n",
       "    </tr>\n",
       "    <tr>\n",
       "      <th>5681</th>\n",
       "      <td>5682</td>\n",
       "      <td>Vakatjhela iwebhusayidi yethu ku-www.</td>\n",
       "      <td>vakatjhela iwebhusayidi yethu ku www</td>\n",
       "      <td>nbl</td>\n",
       "    </tr>\n",
       "  </tbody>\n",
       "</table>\n",
       "</div>"
      ],
      "text/plain": [
       "      index  \\\n",
       "5677   5678   \n",
       "5678   5679   \n",
       "5679   5680   \n",
       "5680   5681   \n",
       "5681   5682   \n",
       "\n",
       "                                                                                                                                                                                                                                                                                                                                   text  \\\n",
       "5677                                                                                                                                                                                                                                                                                                   You mark your ballot in private.   \n",
       "5678  Ge o ka kgetha ka bowena go se šomiše Mofani ka tirelo yo a kgethilwego wa GEMS (DSP), gona tefelo mmogo e tla šomišwa. Tefelo mmogo yeo e ka nna ya ba phapano magareng ga hlwahlwa ya tirelo le yeo GEMS e ka bego e e lefeletše ge nkabe o šomišitše GEMS DSP Goba persente ya tefelo mmogo go ya ka Melao ya Setlamo ya GEMS.   \n",
       "5679                                                                                                                                                                                            E Ka kopo etsa kgetho ya hao ka hloko, hobane ha o na ho kgona ho fetola kgetho ena hara selemo ntle le tumello ya Boto ya Batshwaredi.   \n",
       "5680                                                                                                                                                                        TB ke bokudi ba PMB, mme Morero o tla lefella tlhahlobo ya ho sheba lefu lena. Leha ho le jwalo, o tlameha ho fumana kalafo ya hao ya TB ditsing tsa Mmuso.   \n",
       "5681                                                                                                                                                                                                                                                                                              Vakatjhela iwebhusayidi yethu ku-www.   \n",
       "\n",
       "                                                                                                                                                                                                                                                                                                                        text_clean  \\\n",
       "5677                                                                                                                                                                                                                                                                                               you mark your ballot in private   \n",
       "5678  ge o ka kgetha ka bowena go se šomiše mofani ka tirelo yo a kgethilwego wa gems dsp gona tefelo mmogo e tla šomišwa tefelo mmogo yeo e ka nna ya ba phapano magareng ga hlwahlwa ya tirelo le yeo gems e ka bego e e lefeletše ge nkabe o šomišitše gems dsp goba persente ya tefelo mmogo go ya ka melao ya setlamo ya gems   \n",
       "5679                                                                                                                                                                                         e ka kopo etsa kgetho ya hao ka hloko hobane ha o na ho kgona ho fetola kgetho ena hara selemo ntle le tumello ya boto ya batshwaredi   \n",
       "5680                                                                                                                                                                       tb ke bokudi ba pmb mme morero o tla lefella tlhahlobo ya ho sheba lefu lena leha ho le jwalo o tlameha ho fumana kalafo ya hao ya tb ditsing tsa mmuso   \n",
       "5681                                                                                                                                                                                                                                                                                          vakatjhela iwebhusayidi yethu ku www   \n",
       "\n",
       "     lang_id  \n",
       "5677     eng  \n",
       "5678     nso  \n",
       "5679     sot  \n",
       "5680     sot  \n",
       "5681     nbl  "
      ]
     },
     "execution_count": 127,
     "metadata": {},
     "output_type": "execute_result"
    }
   ],
   "source": [
    "test.tail()"
   ]
  },
  {
   "cell_type": "code",
   "execution_count": 195,
   "id": "8ebcc5f2",
   "metadata": {},
   "outputs": [
    {
     "name": "stdout",
     "output_type": "stream",
     "text": [
      "ssw    3000\n",
      "tso    3000\n",
      "ven    3000\n",
      "zul    3000\n",
      "sot    3000\n",
      "nbl    3000\n",
      "eng    3000\n",
      "tsn    3000\n",
      "nso    3000\n",
      "xho    3000\n",
      "afr    3000\n",
      "Name: lang_id, dtype: int64\n",
      "['xho' 'eng' 'nso' 'ven' 'tsn' 'nbl' 'zul' 'ssw' 'tso' 'sot' 'afr']\n"
     ]
    }
   ],
   "source": [
    "print(train.lang_id.value_counts())\n",
    "print(train.lang_id.unique())"
   ]
  },
  {
   "cell_type": "code",
   "execution_count": 47,
   "id": "772cf613",
   "metadata": {},
   "outputs": [
    {
     "name": "stdout",
     "output_type": "stream",
     "text": [
      "<class 'pandas.core.frame.DataFrame'>\n",
      "RangeIndex: 33000 entries, 0 to 32999\n",
      "Data columns (total 3 columns):\n",
      " #   Column      Non-Null Count  Dtype \n",
      "---  ------      --------------  ----- \n",
      " 0   lang_id     33000 non-null  string\n",
      " 1   text        33000 non-null  string\n",
      " 2   text_clean  33000 non-null  object\n",
      "dtypes: object(1), string(2)\n",
      "memory usage: 773.6+ KB\n"
     ]
    }
   ],
   "source": [
    "train['lang_id'] = train['lang_id'].astype('string')\n",
    "train['text'] = train['text'].astype('string')\n",
    "\n",
    "train.info()"
   ]
  },
  {
   "cell_type": "markdown",
   "id": "5f21388c",
   "metadata": {},
   "source": [
    "### Model Building"
   ]
  },
  {
   "cell_type": "code",
   "execution_count": 18,
   "id": "d22b76a0",
   "metadata": {},
   "outputs": [],
   "source": [
    "X = train['text_clean']\n",
    "y = train['lang_id'] \n",
    "\n",
    "X_train , X_test , y_train , y_test = train_test_split(X , y, test_size =0.17, random_state=1)"
   ]
  },
  {
   "cell_type": "code",
   "execution_count": 33,
   "id": "54687d45",
   "metadata": {},
   "outputs": [],
   "source": [
    "classifiers = [ ComplementNB(),\n",
    "               LinearSVC(random_state=1),\n",
    "               ExtraTreesClassifier(),\n",
    "               LogisticRegression(random_state=1, n_jobs=1, max_iter=5000),\n",
    "               SGDClassifier(random_state=1),\n",
    "               AdaBoostClassifier(),\n",
    "               KNeighborsClassifier(),\n",
    "               MultinomialNB(),\n",
    "               RidgeClassifier(),\n",
    "               RandomForestClassifier(random_state=1)\n",
    "              ]"
   ]
  },
  {
   "cell_type": "code",
   "execution_count": 34,
   "id": "6accafd8",
   "metadata": {},
   "outputs": [],
   "source": [
    "def model_assessment(classifiers, X_train , X_test , y_train , y_test):\n",
    "    \"\"\"\n",
    "    A function to train and test different classifiers and return a performance summary. \n",
    "    :param classifiers: List of models\n",
    "    :param Train Test Split\n",
    "    return: Dataframe of models as index, and metrics as columns\n",
    "    \"\"\"  \n",
    "    model_summary = {} \n",
    "    \n",
    "    for clf in classifiers:\n",
    "        model = Pipeline([\n",
    "                    ('tfidf', TfidfVectorizer(max_df=0.9, ngram_range=(1, 2))),\n",
    "                    ('clf', clf)\n",
    "                          ])\n",
    "        \n",
    "        start_time = time.time()      # Logging Current Time \n",
    "        model.fit(X_train, y_train)        # Training\n",
    "        predictions = model.predict(X_test)    # Testing \n",
    "        run_time = time.time() - start_time        # Calculate Execuation Time\n",
    "      \n",
    "    # Create Dictionary Of Each Models Performance\n",
    "        model_summary[clf.__class__.__name__] = {\n",
    "          'F1-Macro':metrics.f1_score(y_test, predictions, average='macro'),\n",
    "          'F1-Accuracy':metrics.f1_score(y_test, predictions, average='micro'),\n",
    "          'F1-Weighted':metrics.f1_score(y_test, predictions, average='weighted'),\n",
    "          'Execution Time': run_time }\n",
    "      \n",
    "        \n",
    "    return pd.DataFrame.from_dict(model_summary, orient='index') # Create/Return Dataframe"
   ]
  },
  {
   "cell_type": "code",
   "execution_count": 35,
   "id": "b6bf3241",
   "metadata": {},
   "outputs": [],
   "source": [
    "clf_performance_df = model_assessment(classifiers, X_train , X_test , y_train , y_test)\n",
    "clf_performance_df.to_csv('clf_performance_df.csv')"
   ]
  },
  {
   "cell_type": "code",
   "execution_count": null,
   "id": "ebce3c02",
   "metadata": {},
   "outputs": [],
   "source": [
    "compNB = model_assessment(classifiers, X_train , X_test , y_train , y_test)\n",
    "compNB.to_csv('compNB.csv')"
   ]
  },
  {
   "cell_type": "code",
   "execution_count": 37,
   "id": "1f90e04e",
   "metadata": {},
   "outputs": [],
   "source": [
    "all_classifiers = pd.concat([compNB, clf_performance_df], axis = 0)"
   ]
  },
  {
   "cell_type": "code",
   "execution_count": 39,
   "id": "b54800f7",
   "metadata": {},
   "outputs": [],
   "source": [
    "all_classifiers.to_csv('all_classifiers.csv')"
   ]
  },
  {
   "cell_type": "code",
   "execution_count": 22,
   "id": "d130f8eb",
   "metadata": {},
   "outputs": [],
   "source": [
    "clf_performance_df = pd.read_csv('clf_performance_df.csv', index_col = 0) "
   ]
  },
  {
   "cell_type": "code",
   "execution_count": 38,
   "id": "fa515830",
   "metadata": {},
   "outputs": [
    {
     "data": {
      "text/html": [
       "<div>\n",
       "<style scoped>\n",
       "    .dataframe tbody tr th:only-of-type {\n",
       "        vertical-align: middle;\n",
       "    }\n",
       "\n",
       "    .dataframe tbody tr th {\n",
       "        vertical-align: top;\n",
       "    }\n",
       "\n",
       "    .dataframe thead th {\n",
       "        text-align: right;\n",
       "    }\n",
       "</style>\n",
       "<table border=\"1\" class=\"dataframe\">\n",
       "  <thead>\n",
       "    <tr style=\"text-align: right;\">\n",
       "      <th></th>\n",
       "      <th>F1-Macro</th>\n",
       "      <th>F1-Accuracy</th>\n",
       "      <th>F1-Weighted</th>\n",
       "      <th>Execution Time</th>\n",
       "    </tr>\n",
       "  </thead>\n",
       "  <tbody>\n",
       "    <tr>\n",
       "      <th>MultinomialNB</th>\n",
       "      <td>0.998249</td>\n",
       "      <td>0.998217</td>\n",
       "      <td>0.998216</td>\n",
       "      <td>5.762156</td>\n",
       "    </tr>\n",
       "    <tr>\n",
       "      <th>ComplementNB</th>\n",
       "      <td>0.997905</td>\n",
       "      <td>0.997861</td>\n",
       "      <td>0.997859</td>\n",
       "      <td>5.786962</td>\n",
       "    </tr>\n",
       "    <tr>\n",
       "      <th>RidgeClassifier</th>\n",
       "      <td>0.996884</td>\n",
       "      <td>0.996791</td>\n",
       "      <td>0.996791</td>\n",
       "      <td>14.186019</td>\n",
       "    </tr>\n",
       "    <tr>\n",
       "      <th>LinearSVC</th>\n",
       "      <td>0.996714</td>\n",
       "      <td>0.996613</td>\n",
       "      <td>0.996614</td>\n",
       "      <td>9.610314</td>\n",
       "    </tr>\n",
       "    <tr>\n",
       "      <th>SGDClassifier</th>\n",
       "      <td>0.996033</td>\n",
       "      <td>0.995900</td>\n",
       "      <td>0.995902</td>\n",
       "      <td>7.865045</td>\n",
       "    </tr>\n",
       "    <tr>\n",
       "      <th>LogisticRegression</th>\n",
       "      <td>0.995003</td>\n",
       "      <td>0.994831</td>\n",
       "      <td>0.994839</td>\n",
       "      <td>200.286630</td>\n",
       "    </tr>\n",
       "    <tr>\n",
       "      <th>ExtraTreesClassifier</th>\n",
       "      <td>0.991342</td>\n",
       "      <td>0.990909</td>\n",
       "      <td>0.990976</td>\n",
       "      <td>301.837464</td>\n",
       "    </tr>\n",
       "    <tr>\n",
       "      <th>RandomForestClassifier</th>\n",
       "      <td>0.989625</td>\n",
       "      <td>0.989127</td>\n",
       "      <td>0.989193</td>\n",
       "      <td>180.862793</td>\n",
       "    </tr>\n",
       "    <tr>\n",
       "      <th>KNeighborsClassifier</th>\n",
       "      <td>0.967741</td>\n",
       "      <td>0.967201</td>\n",
       "      <td>0.966948</td>\n",
       "      <td>11.070413</td>\n",
       "    </tr>\n",
       "    <tr>\n",
       "      <th>AdaBoostClassifier</th>\n",
       "      <td>0.479997</td>\n",
       "      <td>0.547415</td>\n",
       "      <td>0.471852</td>\n",
       "      <td>36.791643</td>\n",
       "    </tr>\n",
       "  </tbody>\n",
       "</table>\n",
       "</div>"
      ],
      "text/plain": [
       "                        F1-Macro  F1-Accuracy  F1-Weighted  Execution Time\n",
       "MultinomialNB           0.998249     0.998217     0.998216        5.762156\n",
       "ComplementNB            0.997905     0.997861     0.997859        5.786962\n",
       "RidgeClassifier         0.996884     0.996791     0.996791       14.186019\n",
       "LinearSVC               0.996714     0.996613     0.996614        9.610314\n",
       "SGDClassifier           0.996033     0.995900     0.995902        7.865045\n",
       "LogisticRegression      0.995003     0.994831     0.994839      200.286630\n",
       "ExtraTreesClassifier    0.991342     0.990909     0.990976      301.837464\n",
       "RandomForestClassifier  0.989625     0.989127     0.989193      180.862793\n",
       "KNeighborsClassifier    0.967741     0.967201     0.966948       11.070413\n",
       "AdaBoostClassifier      0.479997     0.547415     0.471852       36.791643"
      ]
     },
     "execution_count": 38,
     "metadata": {},
     "output_type": "execute_result"
    }
   ],
   "source": [
    "all_classifiers.sort_values('F1-Weighted', ascending=False)"
   ]
  },
  {
   "cell_type": "markdown",
   "id": "33d6661a",
   "metadata": {},
   "source": [
    "### Hyperparameter Tuning"
   ]
  },
  {
   "cell_type": "code",
   "execution_count": 47,
   "id": "84b34bfe",
   "metadata": {},
   "outputs": [],
   "source": [
    "classifiers = [\n",
    "               LinearSVC(random_state=1),\n",
    "               ComplementNB(),\n",
    "               MultinomialNB(),\n",
    "               RidgeClassifier()\n",
    "              ]"
   ]
  },
  {
   "cell_type": "code",
   "execution_count": 52,
   "id": "6a1790d0",
   "metadata": {},
   "outputs": [],
   "source": [
    "X = train['text_clean']\n",
    "y = train['lang_id'] \n",
    "\n",
    "X_train , X_test , y_train , y_test = train_test_split(X , y, test_size =0.17, random_state=1)"
   ]
  },
  {
   "cell_type": "code",
   "execution_count": 53,
   "id": "7805d3bd",
   "metadata": {},
   "outputs": [],
   "source": [
    "def get_hyperparams(classifiers, X_train, y_train):\n",
    "    \"\"\"\n",
    "    A function to train different classifiers and return their parameters.\n",
    "    :classifiers: List of models\n",
    "    return: Dictionary with model names as keys and the values are a dictionary with parameter names as keys \n",
    "            and parameter value as values.\n",
    "    \"\"\"  \n",
    "    model_params = {}\n",
    "  \n",
    "    for clf in classifiers:\n",
    "        model = Pipeline([\n",
    "                    ('tfidf', TfidfVectorizer(max_df=0.9, ngram_range=(1, 2))),\n",
    "                    ('clf',clf)\n",
    "                          ])\n",
    "        \n",
    "        model.fit(X_train, y_train)\n",
    "        \n",
    "        params = model.get_params()\n",
    "        model_name = clf.__class__.__name__ \n",
    "        model_name = {}\n",
    "        \n",
    "        for key in params:\n",
    "            if key.startswith(\"clf\"):\n",
    "                if len(key) < 5:\n",
    "                    model_name['model'] = params[key]\n",
    "                else:\n",
    "                    model_name[key[5:]] = params[key]\n",
    "        \n",
    "        model_params[clf.__class__.__name__] = model_name\n",
    "        \n",
    "    return model_params"
   ]
  },
  {
   "cell_type": "code",
   "execution_count": 54,
   "id": "9ced6f31",
   "metadata": {},
   "outputs": [
    {
     "name": "stdout",
     "output_type": "stream",
     "text": [
      "Wall time: 33.8 s\n"
     ]
    }
   ],
   "source": [
    "%%time\n",
    "model_params = get_hyperparams(classifiers, X_train, y_train)"
   ]
  },
  {
   "cell_type": "markdown",
   "id": "68cced6d",
   "metadata": {},
   "source": [
    "#### Grid Search"
   ]
  },
  {
   "cell_type": "code",
   "execution_count": 46,
   "id": "825e88e0",
   "metadata": {},
   "outputs": [],
   "source": [
    "X = train['text_clean']\n",
    "y = train['lang_id'] \n",
    "\n",
    "vect = TfidfVectorizer(stop_words = 'english', ngram_range=(1, 1))\n",
    "\n",
    "X_train , X_test , y_train , y_test = train_test_split(X, y, test_size=0.4, random_state =1)\n",
    "X_train = vect.fit_transform(X_train)\n",
    "X_test = vect.transform(X_test)"
   ]
  },
  {
   "cell_type": "markdown",
   "id": "4c27e0d0",
   "metadata": {},
   "source": [
    "#### LinearSVC"
   ]
  },
  {
   "cell_type": "code",
   "execution_count": 55,
   "id": "15974ee6",
   "metadata": {},
   "outputs": [
    {
     "data": {
      "text/plain": [
       "{'model': LinearSVC(random_state=1),\n",
       " 'C': 1.0,\n",
       " 'class_weight': None,\n",
       " 'dual': True,\n",
       " 'fit_intercept': True,\n",
       " 'intercept_scaling': 1,\n",
       " 'loss': 'squared_hinge',\n",
       " 'max_iter': 1000,\n",
       " 'multi_class': 'ovr',\n",
       " 'penalty': 'l2',\n",
       " 'random_state': 1,\n",
       " 'tol': 0.0001,\n",
       " 'verbose': 0}"
      ]
     },
     "execution_count": 55,
     "metadata": {},
     "output_type": "execute_result"
    }
   ],
   "source": [
    "#Current Hyperparameters\n",
    "model_params[classifiers[0].__class__.__name__]"
   ]
  },
  {
   "cell_type": "code",
   "execution_count": 65,
   "id": "2daf699e",
   "metadata": {},
   "outputs": [
    {
     "name": "stdout",
     "output_type": "stream",
     "text": [
      "Wall time: 2min 57s\n"
     ]
    }
   ],
   "source": [
    "%%time\n",
    "# define model and parameters to loop through\n",
    "model = LinearSVC()\n",
    "C = [15, 25]\n",
    "max_iter = [1000]\n",
    "grid = dict(C=C, max_iter = max_iter)\n",
    "\n",
    "lsvc = GridSearchCV(estimator=model, param_grid=grid, n_jobs=-1, cv=5, scoring='f1_weighted', error_score=0)\n",
    "lsvc.fit(X_train, y_train)\n",
    "\n",
    "y_pred = lsvc.predict(X_test)\n",
    "f1_macro = metrics.f1_score(y_test, y_pred, average='macro')\n",
    "f1_weighted = metrics.f1_score(y_test, y_pred, average='weighted')\n"
   ]
  },
  {
   "cell_type": "code",
   "execution_count": 66,
   "id": "96da0f00",
   "metadata": {},
   "outputs": [
    {
     "name": "stdout",
     "output_type": "stream",
     "text": [
      "0.997041247699951\n",
      "{'C': 15, 'max_iter': 1000}\n",
      "LinearSVC(C=15)\n"
     ]
    }
   ],
   "source": [
    "print(lsvc.best_score_)\n",
    "print(lsvc.best_params_)     # The parameters we want\n",
    "print(lsvc.best_estimator_) "
   ]
  },
  {
   "cell_type": "markdown",
   "id": "5336956c",
   "metadata": {},
   "source": [
    "#### RidgeClassifier"
   ]
  },
  {
   "cell_type": "code",
   "execution_count": 67,
   "id": "10216244",
   "metadata": {},
   "outputs": [
    {
     "data": {
      "text/plain": [
       "{'model': RidgeClassifier(),\n",
       " 'alpha': 1.0,\n",
       " 'class_weight': None,\n",
       " 'copy_X': True,\n",
       " 'fit_intercept': True,\n",
       " 'max_iter': None,\n",
       " 'normalize': False,\n",
       " 'random_state': None,\n",
       " 'solver': 'auto',\n",
       " 'tol': 0.001}"
      ]
     },
     "execution_count": 67,
     "metadata": {},
     "output_type": "execute_result"
    }
   ],
   "source": [
    "#Current Hyperparameters\n",
    "model_params[classifiers[3].__class__.__name__]"
   ]
  },
  {
   "cell_type": "code",
   "execution_count": 74,
   "id": "62e1e443",
   "metadata": {},
   "outputs": [
    {
     "name": "stdout",
     "output_type": "stream",
     "text": [
      "Wall time: 8min 1s\n"
     ]
    }
   ],
   "source": [
    "%%time\n",
    "# define model and parameters to loop through\n",
    "model = RidgeClassifier()\n",
    "alpha = list(np.linspace(0.17,0.24,8))\n",
    "grid = dict(alpha=alpha)\n",
    "\n",
    "lsvc = GridSearchCV(estimator=model, param_grid=grid, n_jobs=-1, cv=5, scoring='f1_weighted', error_score=0)\n",
    "lsvc.fit(X_train, y_train)\n",
    "\n",
    "y_pred = lsvc.predict(X_test)\n",
    "f1_macro = metrics.f1_score(y_test, y_pred, average='macro')\n",
    "f1_weighted = metrics.f1_score(y_test, y_pred, average='weighted')\n"
   ]
  },
  {
   "cell_type": "code",
   "execution_count": 75,
   "id": "e90c0e7b",
   "metadata": {},
   "outputs": [
    {
     "name": "stdout",
     "output_type": "stream",
     "text": [
      "0.9974795369157897\n",
      "{'alpha': 0.2}\n",
      "RidgeClassifier(alpha=0.2)\n"
     ]
    }
   ],
   "source": [
    "print(lsvc.best_score_)\n",
    "print(lsvc.best_params_)     # The parameters we want\n",
    "print(lsvc.best_estimator_) "
   ]
  },
  {
   "cell_type": "markdown",
   "id": "fe9935f3",
   "metadata": {},
   "source": [
    "#### ComplementNB"
   ]
  },
  {
   "cell_type": "code",
   "execution_count": 70,
   "id": "b4566253",
   "metadata": {},
   "outputs": [
    {
     "data": {
      "text/plain": [
       "{'model': MultinomialNB(),\n",
       " 'alpha': 1.0,\n",
       " 'class_prior': None,\n",
       " 'fit_prior': True}"
      ]
     },
     "execution_count": 70,
     "metadata": {},
     "output_type": "execute_result"
    }
   ],
   "source": [
    "#Current Hyperparameters\n",
    "model_params[classifiers[2].__class__.__name__]"
   ]
  },
  {
   "cell_type": "code",
   "execution_count": 79,
   "id": "3d64bb8a",
   "metadata": {},
   "outputs": [
    {
     "name": "stdout",
     "output_type": "stream",
     "text": [
      "Wall time: 14.1 s\n"
     ]
    }
   ],
   "source": [
    "%%time\n",
    "# define model and parameters to loop through\n",
    "model = ComplementNB()\n",
    "\n",
    "alpha = list(np.linspace(0.17,0.24,8))\n",
    "grid = dict(alpha=alpha)\n",
    "\n",
    "lsvc = GridSearchCV(estimator=model, param_grid=grid, n_jobs=-1, cv=5, scoring='f1_weighted', error_score=0)\n",
    "lsvc.fit(X_train, y_train)\n",
    "\n",
    "y_pred = lsvc.predict(X_test)\n",
    "f1_macro = metrics.f1_score(y_test, y_pred, average='macro')\n",
    "f1_weighted = metrics.f1_score(y_test, y_pred, average='weighted')\n"
   ]
  },
  {
   "cell_type": "code",
   "execution_count": 80,
   "id": "dfec4cc3",
   "metadata": {},
   "outputs": [
    {
     "name": "stdout",
     "output_type": "stream",
     "text": [
      "0.9981725476022678\n",
      "{'alpha': 0.18000000000000002}\n",
      "ComplementNB(alpha=0.18000000000000002)\n"
     ]
    }
   ],
   "source": [
    "print(lsvc.best_score_)\n",
    "print(lsvc.best_params_)     # The parameters we want\n",
    "print(lsvc.best_estimator_) "
   ]
  },
  {
   "cell_type": "markdown",
   "id": "820cf12f",
   "metadata": {},
   "source": [
    "#### MultinomialNB"
   ]
  },
  {
   "cell_type": "code",
   "execution_count": 71,
   "id": "2d28969f",
   "metadata": {},
   "outputs": [
    {
     "data": {
      "text/plain": [
       "{'model': ComplementNB(),\n",
       " 'alpha': 1.0,\n",
       " 'class_prior': None,\n",
       " 'fit_prior': True,\n",
       " 'norm': False}"
      ]
     },
     "execution_count": 71,
     "metadata": {},
     "output_type": "execute_result"
    }
   ],
   "source": [
    "#Current Hyperparameters\n",
    "model_params[classifiers[1].__class__.__name__]"
   ]
  },
  {
   "cell_type": "code",
   "execution_count": 55,
   "id": "2ebf1fb3",
   "metadata": {},
   "outputs": [
    {
     "name": "stdout",
     "output_type": "stream",
     "text": [
      "Wall time: 3.23 s\n"
     ]
    }
   ],
   "source": [
    "%%time\n",
    "# define model and parameters to loop through\n",
    "model = MultinomialNB()\n",
    "\n",
    "alpha = list(np.linspace(0.05,0.17,8))\n",
    "grid = dict(alpha=alpha)\n",
    "\n",
    "lsvc = GridSearchCV(estimator=model, param_grid=grid, n_jobs=-1, cv=5, scoring='f1_weighted', error_score=0)\n",
    "lsvc.fit(X_train, y_train)\n",
    "\n",
    "y_pred = lsvc.predict(X_test)\n",
    "f1_macro = metrics.f1_score(y_test, y_pred, average='macro')\n",
    "f1_weighted = metrics.f1_score(y_test, y_pred, average='weighted')"
   ]
  },
  {
   "cell_type": "code",
   "execution_count": 56,
   "id": "e2a39a59",
   "metadata": {},
   "outputs": [
    {
     "name": "stdout",
     "output_type": "stream",
     "text": [
      "0.9992423422148715\n",
      "{'alpha': 0.10142857142857144}\n",
      "MultinomialNB(alpha=0.10142857142857144)\n"
     ]
    }
   ],
   "source": [
    "print(lsvc.best_score_)\n",
    "print(lsvc.best_params_)     # The parameters we want\n",
    "print(lsvc.best_estimator_) "
   ]
  },
  {
   "cell_type": "code",
   "execution_count": null,
   "id": "8c8428d2",
   "metadata": {},
   "outputs": [],
   "source": []
  },
  {
   "cell_type": "markdown",
   "id": "489fa091",
   "metadata": {},
   "source": [
    "#### Stacking Classifier"
   ]
  },
  {
   "cell_type": "code",
   "execution_count": null,
   "id": "57a4c363",
   "metadata": {},
   "outputs": [],
   "source": [
    "%%time\n",
    "compNB = ComplementNB(alpha=0.18)\n",
    "multiNB = MultinomialNB(alpha=0.18)\n",
    "estimators = [('compNB', compNB), ('multiNB', multiNB)]\n",
    "final_est = RidgeClassifier(alpha=0.2)\n",
    "\n",
    "stacking_clf = StackingClassifier(estimators = estimators, final_estimator = final_est, \n",
    "                                  passthrough = True)\n",
    "\n",
    "X = train['text_clean']\n",
    "y = train['lang_id'] \n",
    "\n",
    "vect = TfidfVectorizer(max_df=0.9, ngram_range=(1, 2))\n",
    "\n",
    "X_train , X_test , y_train , y_test = train_test_split(X, y, stratify=y,test_size=0.05, random_state =1)\n",
    "X_train = vect.fit_transform(X_train)\n",
    "X_test = vect.transform(X_test)\n",
    "\n",
    "\n",
    "stacking_clf.fit(X_train, y_train)\n",
    "\n",
    "y_pred = stacking_clf.predict(X_test)\n",
    "f1_weighted = metrics.f1_score(y_test, y_pred, average='weighted')\n",
    "print(f1_weighted)"
   ]
  },
  {
   "cell_type": "markdown",
   "id": "c6ae3033",
   "metadata": {},
   "source": [
    "#### Choosing The Best Models after Tuning"
   ]
  },
  {
   "cell_type": "code",
   "execution_count": 89,
   "id": "5a7530c9",
   "metadata": {},
   "outputs": [],
   "source": [
    "X = train['text_clean']\n",
    "y = train['lang_id'] \n",
    "\n",
    "X_train , X_test , y_train , y_test = train_test_split(X , y, test_size =0.17, random_state=1)"
   ]
  },
  {
   "cell_type": "code",
   "execution_count": 90,
   "id": "42eb3bf2",
   "metadata": {},
   "outputs": [],
   "source": [
    "classifiers = [\n",
    "                StackingClassifier(estimators = estimators, final_estimator = final_est, \n",
    "                                  passthrough = True),\n",
    "                LinearSVC(random_state=1, C=15),\n",
    "                ComplementNB(alpha=0.18),\n",
    "                MultinomialNB(alpha=0.17285714285714288),\n",
    "                RidgeClassifier(alpha=0.2),  \n",
    "              ]"
   ]
  },
  {
   "cell_type": "code",
   "execution_count": 91,
   "id": "44abdeae",
   "metadata": {},
   "outputs": [],
   "source": [
    "best_performance_df = model_assessment(classifiers, X_train , X_test , y_train , y_test)\n",
    "best_performance_df.to_csv('best_performance_df.csv')"
   ]
  },
  {
   "cell_type": "code",
   "execution_count": 92,
   "id": "2a73f21c",
   "metadata": {},
   "outputs": [
    {
     "data": {
      "text/html": [
       "<div>\n",
       "<style scoped>\n",
       "    .dataframe tbody tr th:only-of-type {\n",
       "        vertical-align: middle;\n",
       "    }\n",
       "\n",
       "    .dataframe tbody tr th {\n",
       "        vertical-align: top;\n",
       "    }\n",
       "\n",
       "    .dataframe thead th {\n",
       "        text-align: right;\n",
       "    }\n",
       "</style>\n",
       "<table border=\"1\" class=\"dataframe\">\n",
       "  <thead>\n",
       "    <tr style=\"text-align: right;\">\n",
       "      <th></th>\n",
       "      <th>F1-Macro</th>\n",
       "      <th>F1-Accuracy</th>\n",
       "      <th>F1-Weighted</th>\n",
       "      <th>Execution Time</th>\n",
       "    </tr>\n",
       "  </thead>\n",
       "  <tbody>\n",
       "    <tr>\n",
       "      <th>StackingClassifier</th>\n",
       "      <td>0.998941</td>\n",
       "      <td>0.998930</td>\n",
       "      <td>0.998930</td>\n",
       "      <td>11.261713</td>\n",
       "    </tr>\n",
       "    <tr>\n",
       "      <th>MultinomialNB</th>\n",
       "      <td>0.998936</td>\n",
       "      <td>0.998930</td>\n",
       "      <td>0.998930</td>\n",
       "      <td>5.920370</td>\n",
       "    </tr>\n",
       "    <tr>\n",
       "      <th>ComplementNB</th>\n",
       "      <td>0.998258</td>\n",
       "      <td>0.998217</td>\n",
       "      <td>0.998216</td>\n",
       "      <td>6.238325</td>\n",
       "    </tr>\n",
       "    <tr>\n",
       "      <th>RidgeClassifier</th>\n",
       "      <td>0.997578</td>\n",
       "      <td>0.997504</td>\n",
       "      <td>0.997505</td>\n",
       "      <td>19.722058</td>\n",
       "    </tr>\n",
       "    <tr>\n",
       "      <th>LinearSVC</th>\n",
       "      <td>0.997221</td>\n",
       "      <td>0.997148</td>\n",
       "      <td>0.997149</td>\n",
       "      <td>23.101878</td>\n",
       "    </tr>\n",
       "  </tbody>\n",
       "</table>\n",
       "</div>"
      ],
      "text/plain": [
       "                    F1-Macro  F1-Accuracy  F1-Weighted  Execution Time\n",
       "StackingClassifier  0.998941     0.998930     0.998930       11.261713\n",
       "MultinomialNB       0.998936     0.998930     0.998930        5.920370\n",
       "ComplementNB        0.998258     0.998217     0.998216        6.238325\n",
       "RidgeClassifier     0.997578     0.997504     0.997505       19.722058\n",
       "LinearSVC           0.997221     0.997148     0.997149       23.101878"
      ]
     },
     "execution_count": 92,
     "metadata": {},
     "output_type": "execute_result"
    }
   ],
   "source": [
    "best_performance_df = pd.read_csv('best_performance_df.csv', index_col = 0) \n",
    "best_performance_df.sort_values('F1-Weighted', ascending = False)"
   ]
  },
  {
   "cell_type": "markdown",
   "id": "f7779806",
   "metadata": {},
   "source": [
    "### Submissions"
   ]
  },
  {
   "cell_type": "code",
   "execution_count": 185,
   "id": "c33e7b9d",
   "metadata": {},
   "outputs": [
    {
     "name": "stdout",
     "output_type": "stream",
     "text": [
      "0.9993938561922088\n"
     ]
    }
   ],
   "source": [
    "#model = StackingClassifier(estimators = estimators, final_estimator = final_est, \n",
    "#                                  passthrough = True)\n",
    "\n",
    "model = MultinomialNB(alpha=0.17285714285714288)\n",
    "#model = ComplementNB(alpha=0.18)\n",
    "\n",
    "X = train['text_clean']\n",
    "y = train['lang_id'] \n",
    "\n",
    "vect = TfidfVectorizer(max_df=0.9, ngram_range=(1, 2))\n",
    "\n",
    "X_train , X_test , y_train , y_test = train_test_split(X, y, test_size=0.05, random_state =1)\n",
    "X_train = vect.fit_transform(X_train)\n",
    "X_test = vect.transform(X_test)\n",
    "\n",
    "model.fit(X_train, y_train)\n",
    "y_pred = model.predict(X_test)\n",
    "f1_weighted = metrics.f1_score(y_test, y_pred, average='weighted')\n",
    "print(f1_weighted)"
   ]
  },
  {
   "cell_type": "code",
   "execution_count": 186,
   "id": "e42f1138",
   "metadata": {
    "scrolled": true
   },
   "outputs": [
    {
     "data": {
      "text/plain": [
       "1487633"
      ]
     },
     "execution_count": 186,
     "metadata": {},
     "output_type": "execute_result"
    }
   ],
   "source": [
    "len(vect.get_feature_names())"
   ]
  },
  {
   "cell_type": "code",
   "execution_count": 116,
   "id": "1c65ff7b",
   "metadata": {},
   "outputs": [],
   "source": [
    "X = test['text_clean']\n",
    "\n",
    "X_vect = vect.transform(X)\n",
    "\n",
    "# Predict\n",
    "test['lang_id'] = model.predict(X_vect)"
   ]
  },
  {
   "cell_type": "code",
   "execution_count": 117,
   "id": "4704c244",
   "metadata": {},
   "outputs": [],
   "source": [
    "submission = test[['index', 'lang_id']]\n",
    "submission.to_csv('MultinomialNB005.csv',index=False)"
   ]
  },
  {
   "cell_type": "code",
   "execution_count": 118,
   "id": "f44ca5bc",
   "metadata": {
    "scrolled": false
   },
   "outputs": [
    {
     "data": {
      "text/html": [
       "<div>\n",
       "<style scoped>\n",
       "    .dataframe tbody tr th:only-of-type {\n",
       "        vertical-align: middle;\n",
       "    }\n",
       "\n",
       "    .dataframe tbody tr th {\n",
       "        vertical-align: top;\n",
       "    }\n",
       "\n",
       "    .dataframe thead th {\n",
       "        text-align: right;\n",
       "    }\n",
       "</style>\n",
       "<table border=\"1\" class=\"dataframe\">\n",
       "  <thead>\n",
       "    <tr style=\"text-align: right;\">\n",
       "      <th></th>\n",
       "      <th>index</th>\n",
       "      <th>lang_id</th>\n",
       "    </tr>\n",
       "  </thead>\n",
       "  <tbody>\n",
       "    <tr>\n",
       "      <th>0</th>\n",
       "      <td>1</td>\n",
       "      <td>tsn</td>\n",
       "    </tr>\n",
       "    <tr>\n",
       "      <th>1</th>\n",
       "      <td>2</td>\n",
       "      <td>nbl</td>\n",
       "    </tr>\n",
       "    <tr>\n",
       "      <th>2</th>\n",
       "      <td>3</td>\n",
       "      <td>ven</td>\n",
       "    </tr>\n",
       "    <tr>\n",
       "      <th>3</th>\n",
       "      <td>4</td>\n",
       "      <td>ssw</td>\n",
       "    </tr>\n",
       "    <tr>\n",
       "      <th>4</th>\n",
       "      <td>5</td>\n",
       "      <td>afr</td>\n",
       "    </tr>\n",
       "    <tr>\n",
       "      <th>...</th>\n",
       "      <td>...</td>\n",
       "      <td>...</td>\n",
       "    </tr>\n",
       "    <tr>\n",
       "      <th>5677</th>\n",
       "      <td>5678</td>\n",
       "      <td>eng</td>\n",
       "    </tr>\n",
       "    <tr>\n",
       "      <th>5678</th>\n",
       "      <td>5679</td>\n",
       "      <td>nso</td>\n",
       "    </tr>\n",
       "    <tr>\n",
       "      <th>5679</th>\n",
       "      <td>5680</td>\n",
       "      <td>sot</td>\n",
       "    </tr>\n",
       "    <tr>\n",
       "      <th>5680</th>\n",
       "      <td>5681</td>\n",
       "      <td>sot</td>\n",
       "    </tr>\n",
       "    <tr>\n",
       "      <th>5681</th>\n",
       "      <td>5682</td>\n",
       "      <td>nbl</td>\n",
       "    </tr>\n",
       "  </tbody>\n",
       "</table>\n",
       "<p>5682 rows × 2 columns</p>\n",
       "</div>"
      ],
      "text/plain": [
       "      index lang_id\n",
       "0         1     tsn\n",
       "1         2     nbl\n",
       "2         3     ven\n",
       "3         4     ssw\n",
       "4         5     afr\n",
       "...     ...     ...\n",
       "5677   5678     eng\n",
       "5678   5679     nso\n",
       "5679   5680     sot\n",
       "5680   5681     sot\n",
       "5681   5682     nbl\n",
       "\n",
       "[5682 rows x 2 columns]"
      ]
     },
     "execution_count": 118,
     "metadata": {},
     "output_type": "execute_result"
    }
   ],
   "source": [
    "submission"
   ]
  },
  {
   "cell_type": "code",
   "execution_count": 187,
   "id": "944ea503",
   "metadata": {},
   "outputs": [],
   "source": [
    "y_test = pd.DataFrame(y_test).reset_index()\n",
    "y_pred = pd.DataFrame(y_pred).reset_index()"
   ]
  },
  {
   "cell_type": "code",
   "execution_count": 188,
   "id": "b256957f",
   "metadata": {},
   "outputs": [],
   "source": [
    "y_pred['lang_id'] = y_pred[0].rename('lang_id')"
   ]
  },
  {
   "cell_type": "code",
   "execution_count": 189,
   "id": "50c22a47",
   "metadata": {},
   "outputs": [
    {
     "data": {
      "text/html": [
       "<div>\n",
       "<style scoped>\n",
       "    .dataframe tbody tr th:only-of-type {\n",
       "        vertical-align: middle;\n",
       "    }\n",
       "\n",
       "    .dataframe tbody tr th {\n",
       "        vertical-align: top;\n",
       "    }\n",
       "\n",
       "    .dataframe thead th {\n",
       "        text-align: right;\n",
       "    }\n",
       "</style>\n",
       "<table border=\"1\" class=\"dataframe\">\n",
       "  <thead>\n",
       "    <tr style=\"text-align: right;\">\n",
       "      <th></th>\n",
       "      <th>index</th>\n",
       "      <th>lang_id</th>\n",
       "    </tr>\n",
       "  </thead>\n",
       "  <tbody>\n",
       "    <tr>\n",
       "      <th>0</th>\n",
       "      <td>12144</td>\n",
       "      <td>sot</td>\n",
       "    </tr>\n",
       "    <tr>\n",
       "      <th>1</th>\n",
       "      <td>27820</td>\n",
       "      <td>tsn</td>\n",
       "    </tr>\n",
       "    <tr>\n",
       "      <th>2</th>\n",
       "      <td>1827</td>\n",
       "      <td>eng</td>\n",
       "    </tr>\n",
       "    <tr>\n",
       "      <th>3</th>\n",
       "      <td>8116</td>\n",
       "      <td>afr</td>\n",
       "    </tr>\n",
       "    <tr>\n",
       "      <th>4</th>\n",
       "      <td>26529</td>\n",
       "      <td>ven</td>\n",
       "    </tr>\n",
       "    <tr>\n",
       "      <th>...</th>\n",
       "      <td>...</td>\n",
       "      <td>...</td>\n",
       "    </tr>\n",
       "    <tr>\n",
       "      <th>1645</th>\n",
       "      <td>25668</td>\n",
       "      <td>eng</td>\n",
       "    </tr>\n",
       "    <tr>\n",
       "      <th>1646</th>\n",
       "      <td>16652</td>\n",
       "      <td>tso</td>\n",
       "    </tr>\n",
       "    <tr>\n",
       "      <th>1647</th>\n",
       "      <td>26602</td>\n",
       "      <td>eng</td>\n",
       "    </tr>\n",
       "    <tr>\n",
       "      <th>1648</th>\n",
       "      <td>22675</td>\n",
       "      <td>ven</td>\n",
       "    </tr>\n",
       "    <tr>\n",
       "      <th>1649</th>\n",
       "      <td>3260</td>\n",
       "      <td>afr</td>\n",
       "    </tr>\n",
       "  </tbody>\n",
       "</table>\n",
       "<p>1650 rows × 2 columns</p>\n",
       "</div>"
      ],
      "text/plain": [
       "      index lang_id\n",
       "0     12144     sot\n",
       "1     27820     tsn\n",
       "2      1827     eng\n",
       "3      8116     afr\n",
       "4     26529     ven\n",
       "...     ...     ...\n",
       "1645  25668     eng\n",
       "1646  16652     tso\n",
       "1647  26602     eng\n",
       "1648  22675     ven\n",
       "1649   3260     afr\n",
       "\n",
       "[1650 rows x 2 columns]"
      ]
     },
     "execution_count": 189,
     "metadata": {},
     "output_type": "execute_result"
    }
   ],
   "source": [
    "y_test"
   ]
  },
  {
   "cell_type": "code",
   "execution_count": 190,
   "id": "fe6fb77c",
   "metadata": {},
   "outputs": [],
   "source": [
    "y_pred['lang_id_pred'] = y_pred['lang_id']"
   ]
  },
  {
   "cell_type": "code",
   "execution_count": 191,
   "id": "c29132cb",
   "metadata": {},
   "outputs": [],
   "source": [
    "pred = pd.concat([y_test, y_pred['lang_id_pred']], axis=1)"
   ]
  },
  {
   "cell_type": "code",
   "execution_count": 192,
   "id": "7028e525",
   "metadata": {},
   "outputs": [
    {
     "data": {
      "text/html": [
       "<div>\n",
       "<style scoped>\n",
       "    .dataframe tbody tr th:only-of-type {\n",
       "        vertical-align: middle;\n",
       "    }\n",
       "\n",
       "    .dataframe tbody tr th {\n",
       "        vertical-align: top;\n",
       "    }\n",
       "\n",
       "    .dataframe thead th {\n",
       "        text-align: right;\n",
       "    }\n",
       "</style>\n",
       "<table border=\"1\" class=\"dataframe\">\n",
       "  <thead>\n",
       "    <tr style=\"text-align: right;\">\n",
       "      <th></th>\n",
       "      <th>index</th>\n",
       "      <th>lang_id</th>\n",
       "      <th>lang_id_pred</th>\n",
       "    </tr>\n",
       "  </thead>\n",
       "  <tbody>\n",
       "    <tr>\n",
       "      <th>0</th>\n",
       "      <td>12144</td>\n",
       "      <td>sot</td>\n",
       "      <td>sot</td>\n",
       "    </tr>\n",
       "    <tr>\n",
       "      <th>1</th>\n",
       "      <td>27820</td>\n",
       "      <td>tsn</td>\n",
       "      <td>tsn</td>\n",
       "    </tr>\n",
       "    <tr>\n",
       "      <th>2</th>\n",
       "      <td>1827</td>\n",
       "      <td>eng</td>\n",
       "      <td>eng</td>\n",
       "    </tr>\n",
       "    <tr>\n",
       "      <th>3</th>\n",
       "      <td>8116</td>\n",
       "      <td>afr</td>\n",
       "      <td>afr</td>\n",
       "    </tr>\n",
       "    <tr>\n",
       "      <th>4</th>\n",
       "      <td>26529</td>\n",
       "      <td>ven</td>\n",
       "      <td>ven</td>\n",
       "    </tr>\n",
       "    <tr>\n",
       "      <th>...</th>\n",
       "      <td>...</td>\n",
       "      <td>...</td>\n",
       "      <td>...</td>\n",
       "    </tr>\n",
       "    <tr>\n",
       "      <th>1645</th>\n",
       "      <td>25668</td>\n",
       "      <td>eng</td>\n",
       "      <td>eng</td>\n",
       "    </tr>\n",
       "    <tr>\n",
       "      <th>1646</th>\n",
       "      <td>16652</td>\n",
       "      <td>tso</td>\n",
       "      <td>tso</td>\n",
       "    </tr>\n",
       "    <tr>\n",
       "      <th>1647</th>\n",
       "      <td>26602</td>\n",
       "      <td>eng</td>\n",
       "      <td>eng</td>\n",
       "    </tr>\n",
       "    <tr>\n",
       "      <th>1648</th>\n",
       "      <td>22675</td>\n",
       "      <td>ven</td>\n",
       "      <td>ven</td>\n",
       "    </tr>\n",
       "    <tr>\n",
       "      <th>1649</th>\n",
       "      <td>3260</td>\n",
       "      <td>afr</td>\n",
       "      <td>afr</td>\n",
       "    </tr>\n",
       "  </tbody>\n",
       "</table>\n",
       "<p>1650 rows × 3 columns</p>\n",
       "</div>"
      ],
      "text/plain": [
       "      index lang_id lang_id_pred\n",
       "0     12144     sot          sot\n",
       "1     27820     tsn          tsn\n",
       "2      1827     eng          eng\n",
       "3      8116     afr          afr\n",
       "4     26529     ven          ven\n",
       "...     ...     ...          ...\n",
       "1645  25668     eng          eng\n",
       "1646  16652     tso          tso\n",
       "1647  26602     eng          eng\n",
       "1648  22675     ven          ven\n",
       "1649   3260     afr          afr\n",
       "\n",
       "[1650 rows x 3 columns]"
      ]
     },
     "execution_count": 192,
     "metadata": {},
     "output_type": "execute_result"
    }
   ],
   "source": [
    "pred"
   ]
  },
  {
   "cell_type": "code",
   "execution_count": 193,
   "id": "8017a55c",
   "metadata": {},
   "outputs": [
    {
     "data": {
      "text/html": [
       "<div>\n",
       "<style scoped>\n",
       "    .dataframe tbody tr th:only-of-type {\n",
       "        vertical-align: middle;\n",
       "    }\n",
       "\n",
       "    .dataframe tbody tr th {\n",
       "        vertical-align: top;\n",
       "    }\n",
       "\n",
       "    .dataframe thead th {\n",
       "        text-align: right;\n",
       "    }\n",
       "</style>\n",
       "<table border=\"1\" class=\"dataframe\">\n",
       "  <thead>\n",
       "    <tr style=\"text-align: right;\">\n",
       "      <th></th>\n",
       "      <th>index</th>\n",
       "      <th>lang_id</th>\n",
       "      <th>lang_id_pred</th>\n",
       "    </tr>\n",
       "  </thead>\n",
       "  <tbody>\n",
       "    <tr>\n",
       "      <th>498</th>\n",
       "      <td>9828</td>\n",
       "      <td>sot</td>\n",
       "      <td>nso</td>\n",
       "    </tr>\n",
       "  </tbody>\n",
       "</table>\n",
       "</div>"
      ],
      "text/plain": [
       "     index lang_id lang_id_pred\n",
       "498   9828     sot          nso"
      ]
     },
     "execution_count": 193,
     "metadata": {},
     "output_type": "execute_result"
    }
   ],
   "source": [
    "pred[pred['lang_id']!= pred['lang_id_pred']]"
   ]
  },
  {
   "cell_type": "code",
   "execution_count": 194,
   "id": "0584dd8c",
   "metadata": {},
   "outputs": [
    {
     "data": {
      "text/plain": [
       "lang_id                                                                                                                                                                                                                                                                                     sot\n",
       "text          nico vermaak grain sa basie ntsimane boy mokoena karabo peele paul morule job metswamere thando lolwane jane mcpherson grain sa dr kobus laubscher grainsa moss malo lepati macaphasa jenny mathews modulasetulo wa lenaneo la ntshetsopele ya molemi sehlopha se sebetsang mmoho\n",
       "text_clean    nico vermaak grain sa basie ntsimane boy mokoena karabo peele paul morule job metswamere thando lolwane jane mcpherson grain sa dr kobus laubscher grainsa moss malo lepati macaphasa jenny mathews modulasetulo wa lenaneo la ntshetsopele ya molemi sehlopha se sebetsang mmoho\n",
       "Name: 9828, dtype: object"
      ]
     },
     "execution_count": 194,
     "metadata": {},
     "output_type": "execute_result"
    }
   ],
   "source": [
    "train.iloc[9828]"
   ]
  },
  {
   "cell_type": "code",
   "execution_count": null,
   "id": "104c34d1",
   "metadata": {},
   "outputs": [],
   "source": []
  }
 ],
 "metadata": {
  "kernelspec": {
   "display_name": "Python 3",
   "language": "python",
   "name": "python3"
  },
  "language_info": {
   "codemirror_mode": {
    "name": "ipython",
    "version": 3
   },
   "file_extension": ".py",
   "mimetype": "text/x-python",
   "name": "python",
   "nbconvert_exporter": "python",
   "pygments_lexer": "ipython3",
   "version": "3.8.8"
  }
 },
 "nbformat": 4,
 "nbformat_minor": 5
}
